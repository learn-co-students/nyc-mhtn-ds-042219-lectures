{
 "cells": [
  {
   "cell_type": "markdown",
   "metadata": {},
   "source": [
    "# ANOVA - Analysis of Variance\n",
    "We will continue our discussion on linear model. Today, we will be learning ANOVA, a generalized form of comparing mean across multiple groups. \n",
    "Agenda today:\n",
    "- Compare t-tests and ANOVA\n",
    "- Learn to calculate ANOVA & details \n",
    "- Implement ANOVA in python\n",
    "    - using statsmodel\n",
    "    - from scratch\n",
    "- Compare linear regression with ANOVA"
   ]
  },
  {
   "cell_type": "markdown",
   "metadata": {},
   "source": [
    "## Part I. T tests or ANOVA?\n",
    "Suppose we want to compare whether multiple groups differ in some type of measures. For example, we have collected mood data grouped by four types of weather - sunny, raining, overcast, or cloudy, and we want to find out whether there is a difference in mood across different weather. What tests would you use?\n",
    "\n",
    "A natural reaction would be to conduct multiple t-tests. However, that comes with many drawbacks. First, you would need $\\frac{n(n-1)}{2}$ t tests, which come out to 6 tests. Having more tests meaning having higher chance of making type I error. In this case, our original probability of making type I error grew from 5% to 5% x 6 = 30%! By conduct 6 tests and comparing their mean to each other, we are running a huge risk of making false positives. How then, can we combat this? -- ANOVA!\n",
    "\n",
    "Instead of looking at each individual difference, ANOVA examines the ratio of variance between groups, and variance within groups, and find out whether the ratio is big enough to be statistically significant. "
   ]
  },
  {
   "cell_type": "markdown",
   "metadata": {},
   "source": [
    "#### T Test statistics \n",
    "$t = \\frac{x\\bar - \\mu}{\\frac{s}{\\sqrt n}}$\n",
    "\n",
    "#### ANOVA - the F test\n",
    "$F = \\frac{MS_bet}{MS_within}$\n",
    "\n",
    "We can also say that t test is a special case of ANOVA in that we are comparing the means of only two groups."
   ]
  },
  {
   "cell_type": "markdown",
   "metadata": {},
   "source": [
    "## Part II. Calculating ANOVA \n",
    "In this section, we will learn how to calculate ANOVA without using any pacakges. All we need to calculate is:\n",
    "\n",
    "- $SS_b$ = $n\\sum(\\bar X - \\bar X_i)^2 $\n",
    "\n",
    "- $SS_w$ = $\\sum (n_i - 1) s_i ^ 2$\n",
    "\n",
    "- $SS_t$ = $\\sum (X_ij - \\bar X)^2$\n",
    "\n",
    "- $MS_b$ = $\\frac{SS_b}{DF_b}$\n",
    "\n",
    "- $MS_w$ = $\\frac{SS_w}{DF_w}$\n",
    "\n",
    "- $F$ = $\\frac{MS_b}{MS_w}$"
   ]
  },
  {
   "cell_type": "markdown",
   "metadata": {},
   "source": [
    "Degrees of Freedom for ANOVA:\n",
    "- DFbetween = k - 1\n",
    "- DFwithin = N - k\n",
    "- DFtotal = N - 1"
   ]
  },
  {
   "cell_type": "markdown",
   "metadata": {},
   "source": [
    "Notations:\n",
    "- k is the number of groups\n",
    "- N is the total number of observations\n",
    "- n is the number of observations in each group"
   ]
  },
  {
   "cell_type": "markdown",
   "metadata": {},
   "source": [
    "###\n",
    "Like regression and t-test, we can also perform hypothesis testing with ANOVA. What would be the null hypothesis in this case? \n",
    "- $H0 = \\mu_1 = \\mu_1 = \\mu_3 = \\mu_4$\n",
    "- $H_a$ H0 is not true"
   ]
  },
  {
   "cell_type": "code",
   "execution_count": null,
   "metadata": {},
   "outputs": [],
   "source": [
    "import pandas as pd\n",
    "import scipy.stats as stats\n",
    "import matplotlib.pyplot as plt\n",
    "data = pd.read_csv('bikeshare_day.csv')\n",
    "data.head()\n",
    "# cnt is the outcome we are trying to predict"
   ]
  },
  {
   "cell_type": "code",
   "execution_count": null,
   "metadata": {},
   "outputs": [],
   "source": [
    "#Create a boxplot\n",
    "# 1 is spring, 2 is summer, 3 is fall, and 4 is winter\n",
    "data.boxplot('cnt', by='season', figsize=(6,6))"
   ]
  },
  {
   "cell_type": "markdown",
   "metadata": {},
   "source": [
    "### 2.2 Calculate ANOVA using statsmodel"
   ]
  },
  {
   "cell_type": "code",
   "execution_count": null,
   "metadata": {},
   "outputs": [],
   "source": [
    "# we need to conduct a little bit feature engineering to encode \n",
    "data['season_cat'] = data.season.apply(lambda x: 'spring' if x == 1 else ('summer' if x == 2 else ('fall' if x ==3 else 'winter')))"
   ]
  },
  {
   "cell_type": "code",
   "execution_count": null,
   "metadata": {},
   "outputs": [],
   "source": [
    "data.boxplot('cnt', by = 'season_cat')"
   ]
  },
  {
   "cell_type": "code",
   "execution_count": null,
   "metadata": {
    "scrolled": true
   },
   "outputs": [],
   "source": [
    "from statsmodels.formula.api import ols\n",
    "import statsmodels.api as sm\n",
    "# why can we use ols in this case?\n",
    "anova_season = ols('cnt~season_cat',data=data).fit()\n",
    "anova_season.summary()"
   ]
  },
  {
   "cell_type": "code",
   "execution_count": null,
   "metadata": {},
   "outputs": [],
   "source": [
    "# examine the anova table \n",
    "anova_table = sm.stats.anova_lm(anova_season, type=2)\n",
    "print(anova_table)"
   ]
  },
  {
   "cell_type": "markdown",
   "metadata": {},
   "source": [
    "## Part III. Comparing Linear Regression to ANOVA\n",
    "Why can we use ordinary least squares with ANOVA? ANOVA, in fact, can be viewed as a linear regression problem with categorical variable, parametrized as with j levels:\n",
    "$y_i = \\beta_0 + \\beta_1 X_1 + ... + \\beta_j-1 X_j-1 + \\epsilon$\n",
    "\n",
    "Therefore, the above model can also be interpreted as special case of linear regression with only categorical predictor of season can . be parametrized as:\n",
    "$Y = 5644.30 - 3040.17X_1 - 651.97X_2 - 916.14X_3$"
   ]
  },
  {
   "cell_type": "markdown",
   "metadata": {},
   "source": [
    "The intercept, again, represents fall\n",
    "We can then interpret it as:\n",
    "- When the season is fall, Y has a mean value of 5644.30\n",
    "\n",
    "- When the season is spring, $Y = 5644.30 - 3040.17 *1 - 651.97*0 - 916.14*0 = 2604.13$\n",
    "\n",
    "- When the season is summer, $Y = 5644.30 - 3040.17 *0 - 651.97*1 - 916.14*0 = 4992.33$\n",
    "\n",
    "- When the season is winter, $Y = 5644.30 - 3040.17 *0 - 651.97*0 - 916.14*1 = 5644.30$"
   ]
  },
  {
   "cell_type": "code",
   "execution_count": null,
   "metadata": {},
   "outputs": [],
   "source": [
    "data[data.season ==3].cnt.mean()"
   ]
  },
  {
   "cell_type": "code",
   "execution_count": null,
   "metadata": {},
   "outputs": [],
   "source": [
    "data[data.season == 1].cnt.mean()"
   ]
  },
  {
   "cell_type": "code",
   "execution_count": null,
   "metadata": {},
   "outputs": [],
   "source": [
    "data[data.season == 2].cnt.mean()"
   ]
  },
  {
   "cell_type": "code",
   "execution_count": null,
   "metadata": {
    "scrolled": true
   },
   "outputs": [],
   "source": [
    "data[data.season == 3].cnt.mean()"
   ]
  },
  {
   "cell_type": "markdown",
   "metadata": {},
   "source": [
    "Working with linear regression with categorical _and_ continuous predictors - how to interpret it?"
   ]
  },
  {
   "cell_type": "markdown",
   "metadata": {},
   "source": [
    "#### Next steps\n",
    "Just because we have rejected the null hypothesis, it doesn't mean we have conclusively showed which group is significantly different from which - remember, the alternative hypothesis is \"the null is not true\". \n",
    "\n",
    "We need to conduct post hoc tests for multiple comparison to find out which groups are different, the most prominent post hoc tests are:\n",
    "- LSD (Least significant difference)\n",
    "    - $t\\sqrt \\frac{MSE}{n^2}$\n",
    "- Tukey's HSD \n",
    "    - $q\\sqrt \\frac{MSE}{n^2}$\n",
    "    \n",
    "After calculating a value for LSD or HSD, we compare each pair wise mean difference with the LSD or HSD difference. If the pairwise mean difference exceeds the LSD/HSD, then they are significantly different."
   ]
  }
 ],
 "metadata": {
  "kernelspec": {
   "display_name": "Python 3",
   "language": "python",
   "name": "python3"
  },
  "language_info": {
   "codemirror_mode": {
    "name": "ipython",
    "version": 3
   },
   "file_extension": ".py",
   "mimetype": "text/x-python",
   "name": "python",
   "nbconvert_exporter": "python",
   "pygments_lexer": "ipython3",
   "version": "3.7.3"
  }
 },
 "nbformat": 4,
 "nbformat_minor": 2
}
