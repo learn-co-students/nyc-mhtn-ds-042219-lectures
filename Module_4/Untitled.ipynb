{
 "cells": [
  {
   "cell_type": "code",
   "execution_count": 1,
   "metadata": {},
   "outputs": [
    {
     "name": "stdout",
     "output_type": "stream",
     "text": [
      "b'MJc_0Ti3JpPI_mes6rUOFZ054wYH198q47BX2AFoFvo='\n"
     ]
    }
   ],
   "source": [
    "import base64\n",
    "import os\n",
    "from cryptography.hazmat.backends import default_backend\n",
    "from cryptography.hazmat.primitives import hashes\n",
    "from cryptography.hazmat.primitives.kdf.pbkdf2 import PBKDF2HMAC\n",
    "\n",
    "password_provided = 'password'\n",
    "password = password_provided.encode()\n",
    "\n",
    "salt = b\"\\xb9\\x1f|}'S\\xa1\\x96\\xeb\\x154\\x04\\x88\\xf3\\xdf\\x05\"\n",
    "\n",
    "kdf = PBKDF2HMAC(algorithm=hashes.SHA256(),\n",
    "                length=32,\n",
    "                salt=salt,\n",
    "                iterations=100000,\n",
    "                backend=default_backend())\n",
    "\n",
    "key = base64.urlsafe_b64encode(kdf.derive(password))\n",
    "print(key)"
   ]
  },
  {
   "cell_type": "code",
   "execution_count": null,
   "metadata": {},
   "outputs": [],
   "source": [
    " # Get the key from the file\n",
    "file = open('key.key', 'rb')\n",
    "key = file.read()\n",
    "file.close()\n",
    "\n",
    "#  Open the file to encrypt\n",
    "with open('secretdf.csv', 'rb') as f:\n",
    "    data = f.read()\n",
    "\n",
    "fernet = Fernet(key)\n",
    "encrypted = fernet.encrypt(data)\n",
    "\n",
    "# Write the encrypted file\n",
    "with open('secretdf.csv.encrypted', 'wb') as f:\n",
    "    f.write(encrypted)"
   ]
  }
 ],
 "metadata": {
  "kernelspec": {
   "display_name": "Python 3",
   "language": "python",
   "name": "python3"
  },
  "language_info": {
   "codemirror_mode": {
    "name": "ipython",
    "version": 3
   },
   "file_extension": ".py",
   "mimetype": "text/x-python",
   "name": "python",
   "nbconvert_exporter": "python",
   "pygments_lexer": "ipython3",
   "version": "3.7.3"
  }
 },
 "nbformat": 4,
 "nbformat_minor": 2
}
