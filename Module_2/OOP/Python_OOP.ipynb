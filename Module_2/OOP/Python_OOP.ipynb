{
 "cells": [
  {
   "cell_type": "markdown",
   "metadata": {},
   "source": [
    "# Python OOP \n",
    "- Overview of object oriented programming\n",
    "- instance mthods and variables \n",
    "- Object initialization\n",
    "- Inheritance and subclasses\n",
    "- special methods: dunder/magic method"
   ]
  },
  {
   "cell_type": "markdown",
   "metadata": {},
   "source": [
    "but we are not going to cover...\n",
    "- classmethods and staticmethods\n",
    "- property decorator\n",
    "- getter and setter"
   ]
  },
  {
   "cell_type": "markdown",
   "metadata": {},
   "source": [
    "## Why do we need object oriented programming \n",
    "Say we wrote a program that allow us to create some beautiful graphics and customize captions, but it is very long. It makes sense to just create a script that perform only that function and import the module. Like we have been doing already:\n",
    "- `import pandas as pd`\n",
    "- `import numpy as np`\n",
    "\n",
    "Object-oriented programming based on the main features that are: \n",
    "- __Abstraction__: It helps in letting the useful information or relevant data to a user, which increases the efficiency of the program and make the things simple. \n",
    "- __Inheritance__. It helps in inheriting the methods, functions, properties, and fields of a base class in derived class. \n",
    "- __Polymorphism__: It helps in doing one task in many ways with help of overloading and overriding which is also known as compile time and run time polymorphism respectively. \n",
    "- __Encapsulation__: It helps in hiding the irrelevant data from a user and prevents the user from unauthorized access."
   ]
  },
  {
   "cell_type": "code",
   "execution_count": 1,
   "metadata": {},
   "outputs": [
    {
     "name": "stdout",
     "output_type": "stream",
     "text": [
      "<module 'numpy.random' from '/Users/flee/anaconda3/lib/python3.7/site-packages/numpy/random/__init__.py'>\n"
     ]
    }
   ],
   "source": [
    "import numpy as np\n",
    "print(np.random)"
   ]
  },
  {
   "cell_type": "code",
   "execution_count": 2,
   "metadata": {},
   "outputs": [],
   "source": [
    "# python oop codealong"
   ]
  },
  {
   "cell_type": "code",
   "execution_count": 3,
   "metadata": {},
   "outputs": [],
   "source": [
    "# create a questionaire class\n",
    "class Questionnaire():\n",
    "    pass"
   ]
  },
  {
   "cell_type": "code",
   "execution_count": 4,
   "metadata": {},
   "outputs": [],
   "source": [
    "# we can then create instances in that class and give it attributes \n",
    "kevin = Questionnaire()\n",
    "andrew = Questionnaire()"
   ]
  },
  {
   "cell_type": "code",
   "execution_count": 5,
   "metadata": {},
   "outputs": [],
   "source": [
    "kevin.last_name = 'Chen'\n",
    "andrew.last_name = 'Lin'\n",
    "kevin.email = 'kchen@gmail.com'\n",
    "andrew.email = 'andrewl@gmail.com'"
   ]
  },
  {
   "cell_type": "code",
   "execution_count": 6,
   "metadata": {},
   "outputs": [
    {
     "name": "stdout",
     "output_type": "stream",
     "text": [
      "kchen@gmail.com\n"
     ]
    }
   ],
   "source": [
    "print(kevin.email)"
   ]
  },
  {
   "cell_type": "code",
   "execution_count": 7,
   "metadata": {
    "scrolled": true
   },
   "outputs": [
    {
     "name": "stdout",
     "output_type": "stream",
     "text": [
      "<__main__.Questionnaire object at 0x1130042b0>\n"
     ]
    }
   ],
   "source": [
    "print(kevin)"
   ]
  },
  {
   "cell_type": "code",
   "execution_count": 8,
   "metadata": {},
   "outputs": [],
   "source": [
    "# it might be counterintuitive to manually add these attributes under these instances. so lets create a function in \n",
    "# the class that allow us to automatically do this\n",
    "class Questionnaire:\n",
    "    def __init__(self,last,email):\n",
    "        self.last = last\n",
    "        self.email = email"
   ]
  },
  {
   "cell_type": "code",
   "execution_count": 9,
   "metadata": {},
   "outputs": [],
   "source": [
    "# you can then pass values to this init method \n",
    "kevin = Questionnaire('Chen','kchen@gmail.com')\n",
    "andrew = Questionnaire('Lin','andrewl@gmail.com')"
   ]
  },
  {
   "cell_type": "code",
   "execution_count": 10,
   "metadata": {},
   "outputs": [
    {
     "name": "stdout",
     "output_type": "stream",
     "text": [
      "<__main__.Questionnaire object at 0x11b4cf128>\n"
     ]
    }
   ],
   "source": [
    "print(kevin)"
   ]
  },
  {
   "cell_type": "code",
   "execution_count": 11,
   "metadata": {},
   "outputs": [
    {
     "name": "stdout",
     "output_type": "stream",
     "text": [
      "<__main__.Questionnaire object at 0x11b4cf0f0>\n"
     ]
    }
   ],
   "source": [
    "print(andrew)"
   ]
  },
  {
   "cell_type": "code",
   "execution_count": 12,
   "metadata": {
    "scrolled": true
   },
   "outputs": [
    {
     "data": {
      "text/plain": [
       "'kchen@gmail.com'"
      ]
     },
     "execution_count": 12,
     "metadata": {},
     "output_type": "execute_result"
    }
   ],
   "source": [
    "kevin.email"
   ]
  },
  {
   "cell_type": "markdown",
   "metadata": {},
   "source": [
    "### Instance Methods"
   ]
  },
  {
   "cell_type": "markdown",
   "metadata": {},
   "source": [
    "The email and last name are attributes of the Questionnaire class. But what if we want to perform some kind of action? To do that, we can add some methods to this class. For example, if we want to generate a random id for this person in this class."
   ]
  },
  {
   "cell_type": "code",
   "execution_count": 13,
   "metadata": {},
   "outputs": [
    {
     "name": "stdout",
     "output_type": "stream",
     "text": [
      "Mr.Chen 's id number is 15\n"
     ]
    }
   ],
   "source": [
    "import numpy as np\n",
    "print(\"Mr.{} 's id number is {}\".format(kevin.last, str(np.random.randint(9,19))))\n",
    "# how do you rewrite this print statement into a method under the class questionnaire such that each person can "
   ]
  },
  {
   "cell_type": "code",
   "execution_count": 14,
   "metadata": {},
   "outputs": [],
   "source": [
    "class Questionnaire:\n",
    "    def __init__(self,last,email):\n",
    "        self.last = last\n",
    "        self.email = email\n",
    "    def get_id(self):\n",
    "        print(str(\"Mr.{} 's id number is {}\".format(self.last, str(np.random.randint(9,19)))))"
   ]
  },
  {
   "cell_type": "code",
   "execution_count": 15,
   "metadata": {},
   "outputs": [
    {
     "name": "stdout",
     "output_type": "stream",
     "text": [
      "Mr.Wang 's id number is 11\n"
     ]
    }
   ],
   "source": [
    "# applying this method to a new instance of this class\n",
    "jake = Questionnaire('Wang','jwang@gmail.com')\n",
    "jake.get_id()"
   ]
  },
  {
   "cell_type": "markdown",
   "metadata": {},
   "source": [
    "Class variables - variables that are shared by all instances in the class"
   ]
  },
  {
   "cell_type": "code",
   "execution_count": 16,
   "metadata": {},
   "outputs": [],
   "source": [
    "class Questionnaire:\n",
    "    \n",
    "    #defining a class variable that generate random id\n",
    "    time_to_fin = 45\n",
    "    \n",
    "    def __init__(self,last,email):\n",
    "        self.last = last\n",
    "        self.email = email\n",
    "    def get_time(self):\n",
    "        print(str(\"Mr.{} has {} minutes to finish the questionnaire\".format(self.last, self.time_to_fin)))"
   ]
  },
  {
   "cell_type": "code",
   "execution_count": 17,
   "metadata": {},
   "outputs": [],
   "source": [
    "jake = Questionnaire('Wang','jwang@gmail.com')"
   ]
  },
  {
   "cell_type": "code",
   "execution_count": 18,
   "metadata": {},
   "outputs": [
    {
     "name": "stdout",
     "output_type": "stream",
     "text": [
      "Mr.Wang has 45 minutes to finish the questionnaire\n"
     ]
    }
   ],
   "source": [
    "jake.get_time()"
   ]
  },
  {
   "cell_type": "code",
   "execution_count": 19,
   "metadata": {},
   "outputs": [
    {
     "data": {
      "text/plain": [
       "45"
      ]
     },
     "execution_count": 19,
     "metadata": {},
     "output_type": "execute_result"
    }
   ],
   "source": [
    "# you can access the class variables through the class itself\n",
    "Questionnaire.time_to_fin"
   ]
  },
  {
   "cell_type": "code",
   "execution_count": 20,
   "metadata": {},
   "outputs": [
    {
     "data": {
      "text/plain": [
       "45"
      ]
     },
     "execution_count": 20,
     "metadata": {},
     "output_type": "execute_result"
    }
   ],
   "source": [
    "jake.time_to_fin"
   ]
  },
  {
   "cell_type": "code",
   "execution_count": 21,
   "metadata": {
    "scrolled": true
   },
   "outputs": [
    {
     "data": {
      "text/plain": [
       "{'last': 'Wang', 'email': 'jwang@gmail.com'}"
      ]
     },
     "execution_count": 21,
     "metadata": {},
     "output_type": "execute_result"
    }
   ],
   "source": [
    "jake.__dict__"
   ]
  },
  {
   "cell_type": "markdown",
   "metadata": {},
   "source": [
    "All classes create objects, and all objects contain characteristics called attributes (referred to as properties in the opening paragraph). Use the __init__() method to initialize (e.g., specify) an object’s initial attributes by giving them their default value (or state). This method must have at least one argument as well as the self variable, which refers to the object itself (e.g., Dog)."
   ]
  },
  {
   "cell_type": "markdown",
   "metadata": {},
   "source": [
    "### class inheritance"
   ]
  },
  {
   "cell_type": "code",
   "execution_count": 22,
   "metadata": {},
   "outputs": [],
   "source": [
    "# creating subclasses that inherit from the parent class\n",
    "# questionnaires have subcomponents. so now lets create a subclass that inherits from questionnaire\n",
    "class Demographics(Questionnaire):\n",
    "    pass"
   ]
  },
  {
   "cell_type": "code",
   "execution_count": 23,
   "metadata": {},
   "outputs": [],
   "source": [
    "# so now instead of creating instances of the questionnaire class, we can directly create instances from the food \n",
    "# preference class\n",
    "bg = Demographics('Lemmon','bg@flatironschool.com')"
   ]
  },
  {
   "cell_type": "code",
   "execution_count": 24,
   "metadata": {},
   "outputs": [
    {
     "name": "stdout",
     "output_type": "stream",
     "text": [
      "{'last': 'Lemmon', 'email': 'bg@flatironschool.com'}\n"
     ]
    }
   ],
   "source": [
    "print(bg.__dict__)"
   ]
  },
  {
   "cell_type": "code",
   "execution_count": 31,
   "metadata": {},
   "outputs": [],
   "source": [
    "# using the super() method to keep the code d.r.y \n",
    "class Demographics(Questionnaire):\n",
    "    def __init__(self, last, email, location):\n",
    "        super().__init__(last, email)\n",
    "        self.location = location\n",
    "        # instead of passing all the previous attributes in this init method, we can use super()\n",
    "    \n",
    "    # there are other ways of doing it. such as Questionnaire().__init__(*args)"
   ]
  },
  {
   "cell_type": "code",
   "execution_count": 32,
   "metadata": {},
   "outputs": [
    {
     "data": {
      "text/plain": [
       "{'last': 'z', 'email': 'maryjo@flatironschool.com', 'location': 'new york'}"
      ]
     },
     "execution_count": 32,
     "metadata": {},
     "output_type": "execute_result"
    }
   ],
   "source": [
    "# you can then create instances of the subclass by passing arguments\n",
    "maryjo = Demographics('z','maryjo@flatironschool.com','new york')\n",
    "maryjo.__dict__"
   ]
  },
  {
   "cell_type": "markdown",
   "metadata": {},
   "source": [
    "### Special method: dunder/magic\n",
    "The documentation of our own class objects can be very ambiguous. However, with the help of special/magic/dunder methods, we can customize documentation of our class by using two of the dunder methods:\n",
    "- `__repr__`\n",
    "- `__str__`"
   ]
  },
  {
   "cell_type": "code",
   "execution_count": 83,
   "metadata": {
    "scrolled": true
   },
   "outputs": [
    {
     "name": "stdout",
     "output_type": "stream",
     "text": [
      "3\n",
      "ab\n"
     ]
    }
   ],
   "source": [
    "# some objects behave differently according to the nature of their data types\n",
    "a = 'a'\n",
    "b = 'b'\n",
    "print(1+2)\n",
    "print('a' + 'b')"
   ]
  },
  {
   "cell_type": "markdown",
   "metadata": {},
   "source": []
  },
  {
   "cell_type": "code",
   "execution_count": 76,
   "metadata": {},
   "outputs": [],
   "source": [
    "class Questionnaire():\n",
    "    def __init__(self, first, last, email):\n",
    "        self.first = first\n",
    "        self.last = last\n",
    "        self.email = email\n",
    "        \n",
    "    def fullname(self):\n",
    "        return '{} {}'.format(self.first, self.last)\n",
    "        \n",
    "    def __repr__(self):\n",
    "        return \"this is {} {}'s information\".format(self.first, self.last)"
   ]
  },
  {
   "cell_type": "code",
   "execution_count": 77,
   "metadata": {
    "scrolled": true
   },
   "outputs": [
    {
     "data": {
      "text/plain": [
       "this is Kevin Chen's information"
      ]
     },
     "execution_count": 77,
     "metadata": {},
     "output_type": "execute_result"
    }
   ],
   "source": [
    "kevin = Questionnaire('Kevin','Chen','kchen@gmail.com')\n",
    "kevin"
   ]
  },
  {
   "cell_type": "code",
   "execution_count": 84,
   "metadata": {},
   "outputs": [
    {
     "name": "stdout",
     "output_type": "stream",
     "text": [
      "this is Kevin Chen's information\n"
     ]
    }
   ],
   "source": [
    "print(kevin)"
   ]
  },
  {
   "cell_type": "code",
   "execution_count": 78,
   "metadata": {},
   "outputs": [],
   "source": [
    "class Questionnaire():\n",
    "    def __init__(self, first, last, email):\n",
    "        self.first = first\n",
    "        self.last = last\n",
    "        self.email = email\n",
    "        \n",
    "    def fullname(self):\n",
    "        return '{} {}'.format(self.first, self.last)\n",
    "    \n",
    "    def __repr__(self):\n",
    "        return \"this is {} {}'s information\".format(self.first, self.last)\n",
    "    \n",
    "    def __len__(self):\n",
    "        return len(self.fullname())"
   ]
  },
  {
   "cell_type": "code",
   "execution_count": 79,
   "metadata": {},
   "outputs": [
    {
     "name": "stdout",
     "output_type": "stream",
     "text": [
      "Kevin Chen\n"
     ]
    }
   ],
   "source": [
    "# create kevin as an object of the class\n",
    "kevin = Questionnaire('Kevin','Chen','kchen@gmail.com')\n",
    "print(kevin.fullname())"
   ]
  },
  {
   "cell_type": "code",
   "execution_count": 80,
   "metadata": {
    "scrolled": true
   },
   "outputs": [
    {
     "data": {
      "text/plain": [
       "10"
      ]
     },
     "execution_count": 80,
     "metadata": {},
     "output_type": "execute_result"
    }
   ],
   "source": [
    "# now we can get the length of kevin's full name\n",
    "len(kevin)"
   ]
  },
  {
   "cell_type": "code",
   "execution_count": null,
   "metadata": {},
   "outputs": [],
   "source": []
  },
  {
   "cell_type": "markdown",
   "metadata": {},
   "source": [
    "### Another note:\n",
    "`if __name__ == '__main__':\n",
    "     main()`"
   ]
  },
  {
   "cell_type": "markdown",
   "metadata": {},
   "source": [
    "### Advanced topics in OOP:\n",
    "- Class methods and static methods\n",
    "- Property decorators\n",
    "- Getters and Setters"
   ]
  },
  {
   "cell_type": "code",
   "execution_count": 88,
   "metadata": {},
   "outputs": [
    {
     "name": "stdout",
     "output_type": "stream",
     "text": [
      "__main__\n"
     ]
    }
   ],
   "source": [
    "print(__name__)"
   ]
  },
  {
   "cell_type": "code",
   "execution_count": null,
   "metadata": {},
   "outputs": [],
   "source": []
  }
 ],
 "metadata": {
  "kernelspec": {
   "display_name": "Python 3",
   "language": "python",
   "name": "python3"
  },
  "language_info": {
   "codemirror_mode": {
    "name": "ipython",
    "version": 3
   },
   "file_extension": ".py",
   "mimetype": "text/x-python",
   "name": "python",
   "nbconvert_exporter": "python",
   "pygments_lexer": "ipython3",
   "version": "3.7.2"
  }
 },
 "nbformat": 4,
 "nbformat_minor": 2
}
