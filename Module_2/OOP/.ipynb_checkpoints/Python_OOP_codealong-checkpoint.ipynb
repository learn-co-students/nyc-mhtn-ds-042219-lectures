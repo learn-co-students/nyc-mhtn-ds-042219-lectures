{
 "cells": [
  {
   "cell_type": "markdown",
   "metadata": {},
   "source": [
    "# Python OOP \n",
    "- Overview of object oriented programming\n",
    "- instance mthods and variables \n",
    "- Object initialization\n",
    "- Inheritance and subclasses\n",
    "- special methods: dunder/magic method"
   ]
  },
  {
   "cell_type": "markdown",
   "metadata": {},
   "source": [
    "but we are not going to cover...\n",
    "- classmethods and staticmethods\n",
    "- property decorator\n",
    "- getter and setter"
   ]
  },
  {
   "cell_type": "markdown",
   "metadata": {},
   "source": [
    "## Why do we need object oriented programming \n",
    "Say we wrote a program that allow us to create some beautiful graphics and customize captions, but it is very long. It makes sense to just create a script that perform only that function and import the module. Like we have been doing already:\n",
    "- `import pandas as pd`\n",
    "- `import numpy as np`\n",
    "\n",
    "Object-oriented programming based on the main features that are: \n",
    "- __Abstraction__: It helps in letting the useful information or relevant data to a user, which increases the efficiency of the program and make the things simple. \n",
    "- __Inheritance__. It helps in inheriting the methods, functions, properties, and fields of a base class in derived class. \n",
    "- __Polymorphism__: It helps in doing one task in many ways with help of overloading and overriding which is also known as compile time and run time polymorphism respectively. \n",
    "- __Encapsulation__: It helps in hiding the irrelevant data from a user and prevents the user from unauthorized access.\n",
    "\n",
    "An amazing medium [article](https://medium.freecodecamp.org/object-oriented-programming-concepts-21bb035f7260) explaining the the above concepts of OOP.  "
   ]
  },
  {
   "cell_type": "code",
   "execution_count": 42,
   "metadata": {},
   "outputs": [
    {
     "name": "stdout",
     "output_type": "stream",
     "text": [
      "<module 'numpy.random' from '/Library/Frameworks/Python.framework/Versions/3.7/lib/python3.7/site-packages/numpy/random/__init__.py'>\n"
     ]
    }
   ],
   "source": [
    "import numpy as np\n",
    "print(np.random)"
   ]
  },
  {
   "cell_type": "code",
   "execution_count": null,
   "metadata": {},
   "outputs": [],
   "source": [
    "# python oop codealong"
   ]
  },
  {
   "cell_type": "code",
   "execution_count": 85,
   "metadata": {},
   "outputs": [],
   "source": [
    "# create a questionaire class\n"
   ]
  },
  {
   "cell_type": "code",
   "execution_count": 86,
   "metadata": {},
   "outputs": [],
   "source": [
    "# we can then create instances in that class and give it attributes \n"
   ]
  },
  {
   "cell_type": "code",
   "execution_count": 3,
   "metadata": {},
   "outputs": [],
   "source": [
    "# give these instances values\n"
   ]
  },
  {
   "cell_type": "code",
   "execution_count": 4,
   "metadata": {},
   "outputs": [
    {
     "name": "stdout",
     "output_type": "stream",
     "text": [
      "kchen@gmail.com\n"
     ]
    }
   ],
   "source": [
    "# examine some of these values\n"
   ]
  },
  {
   "cell_type": "code",
   "execution_count": 5,
   "metadata": {
    "scrolled": true
   },
   "outputs": [
    {
     "name": "stdout",
     "output_type": "stream",
     "text": [
      "<__main__.Questionnaire object at 0x108ba4400>\n"
     ]
    }
   ],
   "source": [
    "# examine the instance\n",
    "\n"
   ]
  },
  {
   "cell_type": "code",
   "execution_count": 6,
   "metadata": {},
   "outputs": [],
   "source": [
    "# it might be counterintuitive to manually add these attributes under these instances. so lets create a function \n",
    "# (initialize some objects) in the class that allow us to automatically do this\n"
   ]
  },
  {
   "cell_type": "code",
   "execution_count": 7,
   "metadata": {},
   "outputs": [],
   "source": [
    "# you can then pass values to this init method \n"
   ]
  },
  {
   "cell_type": "code",
   "execution_count": 8,
   "metadata": {},
   "outputs": [
    {
     "name": "stdout",
     "output_type": "stream",
     "text": [
      "<__main__.Questionnaire object at 0x108ba4668>\n"
     ]
    }
   ],
   "source": [
    "# examine data"
   ]
  },
  {
   "cell_type": "code",
   "execution_count": 9,
   "metadata": {},
   "outputs": [
    {
     "name": "stdout",
     "output_type": "stream",
     "text": [
      "<__main__.Questionnaire object at 0x108ba46a0>\n"
     ]
    }
   ],
   "source": [
    "# examine data"
   ]
  },
  {
   "cell_type": "code",
   "execution_count": 10,
   "metadata": {
    "scrolled": true
   },
   "outputs": [
    {
     "data": {
      "text/plain": [
       "'kchen@gmail.com'"
      ]
     },
     "execution_count": 10,
     "metadata": {},
     "output_type": "execute_result"
    }
   ],
   "source": [
    "# examine values "
   ]
  },
  {
   "cell_type": "markdown",
   "metadata": {},
   "source": [
    "### Instance Methods"
   ]
  },
  {
   "cell_type": "markdown",
   "metadata": {},
   "source": [
    "The email and last name are attributes of the Questionnaire class. But what if we want to perform some kind of action? To do that, we can add some methods to this class. For example, if we want to generate full name for each of our student who took the questionnaire. "
   ]
  },
  {
   "cell_type": "code",
   "execution_count": 3,
   "metadata": {},
   "outputs": [
    {
     "name": "stdout",
     "output_type": "stream",
     "text": [
      "chen,kevin\n"
     ]
    }
   ],
   "source": [
    "# use a print statement to generate full name for one student \n"
   ]
  },
  {
   "cell_type": "code",
   "execution_count": 4,
   "metadata": {},
   "outputs": [],
   "source": []
  },
  {
   "cell_type": "code",
   "execution_count": 5,
   "metadata": {},
   "outputs": [
    {
     "name": "stdout",
     "output_type": "stream",
     "text": [
      "Wang,Jake\n"
     ]
    }
   ],
   "source": [
    "# applying this method to a new instance of this class\n"
   ]
  },
  {
   "cell_type": "code",
   "execution_count": 6,
   "metadata": {},
   "outputs": [
    {
     "name": "stdout",
     "output_type": "stream",
     "text": [
      "Wang,Jake\n"
     ]
    }
   ],
   "source": [
    "# you can also apply this method to the class itself, and manually pass the instance as an argument\n"
   ]
  },
  {
   "cell_type": "markdown",
   "metadata": {},
   "source": [
    "Class variables - variables that are shared by all instances in the class"
   ]
  },
  {
   "cell_type": "code",
   "execution_count": 14,
   "metadata": {},
   "outputs": [],
   "source": [
    "# defining a class variable, which is shared by all instances of the class\n"
   ]
  },
  {
   "cell_type": "code",
   "execution_count": 15,
   "metadata": {},
   "outputs": [],
   "source": [
    "# create an instance "
   ]
  },
  {
   "cell_type": "code",
   "execution_count": 17,
   "metadata": {},
   "outputs": [
    {
     "data": {
      "text/plain": [
       "'18'"
      ]
     },
     "execution_count": 17,
     "metadata": {},
     "output_type": "execute_result"
    }
   ],
   "source": [
    "# you can access the class variables through the class itself\n"
   ]
  },
  {
   "cell_type": "code",
   "execution_count": 18,
   "metadata": {
    "scrolled": true
   },
   "outputs": [
    {
     "data": {
      "text/plain": [
       "'18'"
      ]
     },
     "execution_count": 18,
     "metadata": {},
     "output_type": "execute_result"
    }
   ],
   "source": [
    "# or access it thru an instance of the class"
   ]
  },
  {
   "cell_type": "markdown",
   "metadata": {},
   "source": [
    "All classes create objects, and all objects contain characteristics called attributes (referred to as properties in the opening paragraph). Use the __init__() method to initialize (e.g., specify) an object’s initial attributes by giving them their default value (or state). This method must have at least one argument as well as the self variable, which refers to the object itself (e.g., Dog)."
   ]
  },
  {
   "cell_type": "markdown",
   "metadata": {},
   "source": [
    "### class inheritance"
   ]
  },
  {
   "cell_type": "code",
   "execution_count": 22,
   "metadata": {},
   "outputs": [],
   "source": [
    "# creating subclasses that inherit from the parent class\n",
    "# questionnaires have subcomponents. so now lets create a subclass that inherits from questionnaire\n"
   ]
  },
  {
   "cell_type": "code",
   "execution_count": 23,
   "metadata": {},
   "outputs": [],
   "source": [
    "# so now instead of creating instances of the questionnaire class, we can directly create instances from the food \n",
    "# preference class\n",
    "\n"
   ]
  },
  {
   "cell_type": "code",
   "execution_count": 24,
   "metadata": {},
   "outputs": [
    {
     "name": "stdout",
     "output_type": "stream",
     "text": [
      "{'last': 'Lemmon', 'email': 'bg@flatironschool.com'}\n"
     ]
    }
   ],
   "source": []
  },
  {
   "cell_type": "code",
   "execution_count": 36,
   "metadata": {},
   "outputs": [],
   "source": [
    "# using the super() method to keep the code d.r.y \n",
    "class Demographics(Questionnaire):\n",
    "    def __init__(self, last, email, location):\n",
    "        super().__init__(last, email)\n",
    "        self.location = location\n",
    "        # instead of passing all the previous attributes in this init method, we can use super()\n",
    "    \n",
    "    # there are other ways of doing it. such as Questionnaire().__init__(*args)"
   ]
  },
  {
   "cell_type": "code",
   "execution_count": 37,
   "metadata": {},
   "outputs": [
    {
     "data": {
      "text/plain": [
       "{'last': 'Z', 'email': 'maryjo@flatironschool.com', 'location': 'new york'}"
      ]
     },
     "execution_count": 37,
     "metadata": {},
     "output_type": "execute_result"
    }
   ],
   "source": [
    "# you can then create instances of the subclass by passing arguments\n",
    "maryjo = Demographics('Z','maryjo@flatironschool.com','new york')\n",
    "maryjo.__dict__"
   ]
  },
  {
   "cell_type": "markdown",
   "metadata": {},
   "source": [
    "### Special method: dunder/magic\n",
    "The documentation of our own class objects can be very ambiguous. However, with the help of special/magic/dunder methods, we can customize documentation of our class by using two of the dunder methods:\n",
    "- `__repr__`\n",
    "- `__str__`\n",
    "- `__add__`\n",
    "- `__len__`"
   ]
  },
  {
   "cell_type": "code",
   "execution_count": 83,
   "metadata": {
    "scrolled": true
   },
   "outputs": [
    {
     "name": "stdout",
     "output_type": "stream",
     "text": [
      "3\n",
      "ab\n"
     ]
    }
   ],
   "source": [
    "# some objects behave differently according to the nature of their data types\n",
    "a = 'a'\n",
    "b = 'b'\n",
    "print(1+2)\n",
    "print('a' + 'b')"
   ]
  },
  {
   "cell_type": "code",
   "execution_count": null,
   "metadata": {},
   "outputs": [],
   "source": []
  },
  {
   "cell_type": "markdown",
   "metadata": {},
   "source": []
  },
  {
   "cell_type": "code",
   "execution_count": 12,
   "metadata": {},
   "outputs": [],
   "source": [
    "# create some class"
   ]
  },
  {
   "cell_type": "code",
   "execution_count": 13,
   "metadata": {
    "scrolled": false
   },
   "outputs": [],
   "source": [
    "# create an instance of that class"
   ]
  },
  {
   "cell_type": "code",
   "execution_count": 14,
   "metadata": {},
   "outputs": [],
   "source": [
    "# check out what kind of object that instance is - not very helpful at all!"
   ]
  },
  {
   "cell_type": "code",
   "execution_count": 15,
   "metadata": {},
   "outputs": [],
   "source": [
    "# now lets create some documentation for these instances"
   ]
  },
  {
   "cell_type": "code",
   "execution_count": 16,
   "metadata": {},
   "outputs": [],
   "source": [
    "# create an instance of the class and print out its documentation"
   ]
  },
  {
   "cell_type": "code",
   "execution_count": null,
   "metadata": {
    "scrolled": true
   },
   "outputs": [],
   "source": []
  },
  {
   "cell_type": "code",
   "execution_count": 22,
   "metadata": {},
   "outputs": [],
   "source": [
    "# adding in a few more dunder magic methods to enrich our program \n"
   ]
  },
  {
   "cell_type": "code",
   "execution_count": 23,
   "metadata": {},
   "outputs": [
    {
     "data": {
      "text/plain": [
       "'kevin chen'"
      ]
     },
     "execution_count": 23,
     "metadata": {},
     "output_type": "execute_result"
    }
   ],
   "source": [
    "# check out the dunder methods "
   ]
  },
  {
   "cell_type": "code",
   "execution_count": 24,
   "metadata": {},
   "outputs": [
    {
     "data": {
      "text/plain": [
       "10"
      ]
     },
     "execution_count": 24,
     "metadata": {},
     "output_type": "execute_result"
    }
   ],
   "source": [
    "# adding in even more dunder methods \n"
   ]
  },
  {
   "cell_type": "code",
   "execution_count": null,
   "metadata": {},
   "outputs": [],
   "source": [
    "# check out the dunder methods "
   ]
  },
  {
   "cell_type": "code",
   "execution_count": 27,
   "metadata": {},
   "outputs": [],
   "source": [
    "# check out some documentation of all available resources here"
   ]
  },
  {
   "cell_type": "markdown",
   "metadata": {},
   "source": [
    "[all special methods](https://docs.python.org/3/reference/datamodel.html)"
   ]
  },
  {
   "cell_type": "markdown",
   "metadata": {},
   "source": [
    "### Advanced topics in OOP:\n",
    "- Class methods and static methods\n",
    "- Property decorators\n",
    "- Getters and Setters"
   ]
  }
 ],
 "metadata": {
  "kernelspec": {
   "display_name": "Python 3",
   "language": "python",
   "name": "python3"
  },
  "language_info": {
   "codemirror_mode": {
    "name": "ipython",
    "version": 3
   },
   "file_extension": ".py",
   "mimetype": "text/x-python",
   "name": "python",
   "nbconvert_exporter": "python",
   "pygments_lexer": "ipython3",
   "version": "3.7.2"
  }
 },
 "nbformat": 4,
 "nbformat_minor": 2
}
