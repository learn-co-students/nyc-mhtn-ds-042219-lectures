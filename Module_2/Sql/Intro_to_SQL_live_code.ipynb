{
 "cells": [
  {
   "cell_type": "markdown",
   "metadata": {},
   "source": [
    "# Intro to SQL Databases"
   ]
  },
  {
   "cell_type": "markdown",
   "metadata": {},
   "source": [
    "Agenda today:\n",
    "- Introducing structure and overview of relational databases \n",
    "- Different types of sql databases\n",
    "- Instantiate database instance on your local computer\n",
    "- Working with querying data in db"
   ]
  },
  {
   "cell_type": "markdown",
   "metadata": {},
   "source": [
    "## Part I. DB Structures "
   ]
  },
  {
   "cell_type": "markdown",
   "metadata": {},
   "source": [
    "### What is a Database?\n",
    "- In general, databases store sets of data that can be queried for use in other applications. A database management system supports the development, administration and use of database platforms."
   ]
  },
  {
   "cell_type": "markdown",
   "metadata": {},
   "source": [
    "### What is a Relational Database? \n",
    "- An realtionsal database management system (RDBMS) is a type of DBMS with a row-based table structure that connects related data elements and includes functions that maintain the security, accuracy, integrity and consistency of the data.\n",
    "- The most basic RDBMS functions are related to create, read, update and delete operations, collectively known as CRUD."
   ]
  },
  {
   "cell_type": "markdown",
   "metadata": {},
   "source": [
    "### What is SQL?\n",
    "\n",
    "- SQL stands for Structured Query Language.\n",
    "- A programming language used to communicate with data stored in a relational database management system.\n",
    "- SQL syntax is similar to the English language, which makes it relatively easy to write, read, and interpret."
   ]
  },
  {
   "cell_type": "markdown",
   "metadata": {},
   "source": [
    "### POPULAR RDBMS\n",
    "\n",
    "- SQLite\n",
    "- MySQL\n",
    "- PostgreSql\n",
    "- Oracle DB\n",
    "- SQL Server"
   ]
  },
  {
   "cell_type": "markdown",
   "metadata": {},
   "source": [
    "### SQLite\n",
    "- SQLite is a popular open source SQL database. \n",
    "- It can store an entire database in a single file.\n",
    "- It is 'lite' because it is not server based.\n",
    "- Does not have many features of server-based RDBMS like users and permissions.\n",
    "- Great to get up and running quick, not good for complex projects.\n"
   ]
  },
  {
   "cell_type": "markdown",
   "metadata": {},
   "source": [
    "### MySQL\n",
    "\n",
    "- MySQL is the most popular open source SQL database. \n",
    "- It is typically used for web application development, and often accessed using PHP. \n",
    "- It is easy to use, inexpensive, reliable and has a large community of developers who can help answer questions.\n",
    "- Open source development has lagged since Oracle has taken control of MySQL.\n",
    "- Has been known to suffer from poor performance when scaling, \n",
    "- Does not include some advanced features that developers may be used to."
   ]
  },
  {
   "cell_type": "markdown",
   "metadata": {},
   "source": [
    "### PostgreSQL\n",
    "\n",
    "- PostgreSQL is an open-source SQL database that is not controlled by any corporation.\n",
    "- PostgreSQL shares many of the same advantages of MySQL.\n",
    "- It is slower in performance than other databases such as MySQL\n",
    "- Harder to come by hosts or service providers that offer managed PostgreSQL instances. "
   ]
  },
  {
   "cell_type": "markdown",
   "metadata": {},
   "source": [
    "### Oracle DB\n",
    "\n",
    "- Owned by Oracle Corporation, and the code is not open sourced. \n",
    "- Oracle DB is for large applications, particularly in the banking industry. \n",
    "- The main disadvantage of using Oracle is that it is not free."
   ]
  },
  {
   "cell_type": "markdown",
   "metadata": {},
   "source": [
    "## Part II. Working with Sqlite DB"
   ]
  },
  {
   "cell_type": "markdown",
   "metadata": {},
   "source": [
    "First of all, everyone fill out a dictionary of the following structure:\n",
    "```javascript\n",
    "    {'first_name': 'Fangfang',\n",
    "    'birthday':'09-07',\n",
    "    'siblings':0\n",
    "    }```"
   ]
  },
  {
   "cell_type": "markdown",
   "metadata": {},
   "source": [
    "### Instantiating, creating, and inserting data into a database"
   ]
  },
  {
   "cell_type": "code",
   "execution_count": 1,
   "metadata": {},
   "outputs": [],
   "source": [
    "## instantiate a sql instance on your local computer \n",
    "import sqlite3\n",
    "# we then need to establish a connection object that represent the database\n",
    "conn = sqlite3.connect('students.db')\n",
    "# we then create a cursor that allow us to interact with, and create sql commands\n",
    "c = conn.cursor()"
   ]
  },
  {
   "cell_type": "code",
   "execution_count": 2,
   "metadata": {},
   "outputs": [],
   "source": [
    "# create a table, insert entries, and query results \n",
    "c.execute('CREATE TABLE students_live_code (first_name text, birthday text, siblings integer)')\n",
    "# This method sends a COMMIT statement to the MySQL server, committing the current transaction.\n",
    "#Since by default Connector/Python does not autocommit, it is important to call this method after every \n",
    "# transaction that modifies data for tables that use transactional storage engines.\n",
    "conn.commit()\n"
   ]
  },
  {
   "cell_type": "code",
   "execution_count": 3,
   "metadata": {},
   "outputs": [],
   "source": [
    "# your_info\n",
    "sam_info = {\n",
    "    'first_name' : 'Samuel',\n",
    "    'birthday' :  '12-17',\n",
    "    'siblings' : 1\n",
    "}"
   ]
  },
  {
   "cell_type": "code",
   "execution_count": 4,
   "metadata": {},
   "outputs": [
    {
     "data": {
      "text/plain": [
       "{'first_name': 'Samuel', 'birthday': '12-17', 'siblings': 1}"
      ]
     },
     "execution_count": 4,
     "metadata": {},
     "output_type": "execute_result"
    }
   ],
   "source": [
    "sam_info"
   ]
  },
  {
   "cell_type": "code",
   "execution_count": 6,
   "metadata": {},
   "outputs": [
    {
     "data": {
      "text/plain": [
       "<sqlite3.Cursor at 0x10dc81960>"
      ]
     },
     "execution_count": 6,
     "metadata": {},
     "output_type": "execute_result"
    }
   ],
   "source": [
    "# insert entries into this db \n",
    "c.execute('insert into students_live_code values (\"some_name\", \"00-00\", 0)')\n"
   ]
  },
  {
   "cell_type": "code",
   "execution_count": null,
   "metadata": {},
   "outputs": [],
   "source": [
    "conn.commit()\n",
    "c.execute('select * from students_live_code')\n",
    "c.fetchall()"
   ]
  },
  {
   "cell_type": "code",
   "execution_count": 8,
   "metadata": {},
   "outputs": [
    {
     "data": {
      "text/plain": [
       "[('some_name', '00-00', 0)]"
      ]
     },
     "execution_count": 8,
     "metadata": {},
     "output_type": "execute_result"
    }
   ],
   "source": [
    "# close the connection and cursor\n",
    "c.close()\n",
    "conn.close()"
   ]
  },
  {
   "cell_type": "code",
   "execution_count": 11,
   "metadata": {},
   "outputs": [
    {
     "ename": "ProgrammingError",
     "evalue": "Cannot operate on a closed cursor.",
     "output_type": "error",
     "traceback": [
      "\u001b[0;31m---------------------------------------------------------------------------\u001b[0m",
      "\u001b[0;31mProgrammingError\u001b[0m                          Traceback (most recent call last)",
      "\u001b[0;32m<ipython-input-11-28c046833e62>\u001b[0m in \u001b[0;36m<module>\u001b[0;34m\u001b[0m\n\u001b[1;32m      1\u001b[0m \u001b[0;31m# once you have closed the cursor and the connection, you cannot query from the db unless\u001b[0m\u001b[0;34m\u001b[0m\u001b[0;34m\u001b[0m\u001b[0;34m\u001b[0m\u001b[0m\n\u001b[1;32m      2\u001b[0m \u001b[0;31m# you establish another connection\u001b[0m\u001b[0;34m\u001b[0m\u001b[0;34m\u001b[0m\u001b[0;34m\u001b[0m\u001b[0m\n\u001b[0;32m----> 3\u001b[0;31m \u001b[0mc\u001b[0m\u001b[0;34m.\u001b[0m\u001b[0mexecute\u001b[0m\u001b[0;34m(\u001b[0m\u001b[0;34m'insert into students_live_code values (\"some_name\", \"00-00\", 0)'\u001b[0m\u001b[0;34m)\u001b[0m\u001b[0;34m\u001b[0m\u001b[0;34m\u001b[0m\u001b[0m\n\u001b[0m",
      "\u001b[0;31mProgrammingError\u001b[0m: Cannot operate on a closed cursor."
     ]
    }
   ],
   "source": [
    "# once you have closed the cursor and the connection, you cannot query from the db unless \n",
    "# you establish another connection\n",
    "c.execute('insert into students_live_code values (\"some_name\", \"00-00\", 0)')"
   ]
  },
  {
   "cell_type": "code",
   "execution_count": 12,
   "metadata": {},
   "outputs": [],
   "source": [
    "# reestablish connections\n",
    "conn = sqlite3.connect('students.db')\n",
    "c = conn.cursor()"
   ]
  },
  {
<<<<<<< HEAD
   "cell_type": "code",
   "execution_count": 14,
   "metadata": {},
   "outputs": [
    {
     "data": {
      "text/plain": [
       "{'first_name': 'Samuel', 'birthday': '12-17', 'siblings': 1}"
      ]
     },
     "execution_count": 14,
     "metadata": {},
     "output_type": "execute_result"
    }
   ],
   "source": [
    "sam_info"
   ]
  },
  {
   "cell_type": "code",
   "execution_count": 15,
   "metadata": {},
   "outputs": [
    {
     "data": {
      "text/plain": [
       "<sqlite3.Cursor at 0x10dc816c0>"
      ]
     },
     "execution_count": 15,
     "metadata": {},
     "output_type": "execute_result"
    }
   ],
   "source": [
    "# insert even more entries into this table\n",
    "c.execute('insert into students_live_code values(?,?,?)', (sam_info['first_name'], sam_info['birthday'], sam_info['siblings']))"
   ]
  },
  {
   "cell_type": "code",
   "execution_count": 16,
   "metadata": {},
   "outputs": [
    {
     "data": {
      "text/plain": [
       "[('some_name', '00-00', 0), ('Samuel', '12-17', 1)]"
      ]
     },
     "execution_count": 16,
     "metadata": {},
     "output_type": "execute_result"
    }
   ],
   "source": [
    "c.execute('select * from students_live_code')\n",
    "c.fetchall()"
   ]
  },
  {
   "cell_type": "code",
   "execution_count": 17,
   "metadata": {},
   "outputs": [
    {
     "name": "stdout",
     "output_type": "stream",
     "text": [
      "Intro_to_SQL_code.ipynb         students.db\r\n",
      "Intro_to_SQL_live_code.ipynb    students.db-journal\r\n",
      "Intro_to_Sql_slides.ipynb       students.json\r\n",
      "Intro_to_Sql_slides.slides.html students_0422.json\r\n"
     ]
    }
   ],
   "source": [
    "# import json\n",
    "# file = open('filename.txt', 'r')\n",
    "# file.readlines()"
=======
   "cell_type": "markdown",
   "metadata": {},
   "source": [
    "#### Slight digress - reading files in python \n",
    "In Python you need to give access to a file by opening it. You can do it by using\n",
    "the open() function. Open returns a file object, which has methods and attributes\n",
    "for getting information about and manipulating the opened file. \n",
    "\n",
    "__the with statement__:\n",
    "\n",
    "With the \"With\" statement, you get better syntax and exceptions handling. \n",
    "\n",
    "\"The with statement simplifies exception handling by encapsulating common\n",
    "preparation and cleanup tasks.\"\n",
    "\n",
    "In addition, it will automatically close the file. The with statement provides\n",
    "a way for ensuring that a clean-up is always used.\n",
    "\n",
    "#### Three methods for reading a file\n",
    "- `readline()` : reads the file line by line  \n",
    "- `readlines()` : reads the entire file as a single line\n",
    "- `read()` :reads the file as an individual string"
>>>>>>> cf2b54c134fd8367896866781adf003cc8f3bc45
   ]
  },
  {
   "cell_type": "code",
   "execution_count": null,
   "metadata": {},
   "outputs": [],
   "source": [
    "# with open('filename.txt', 'r') as file:\n",
    "#  lines = file.readline()\n",
    "#  print(lines)\n"
   ]
  },
  {
   "cell_type": "code",
   "execution_count": 19,
   "metadata": {},
   "outputs": [
    {
     "data": {
      "text/plain": [
       "[{'first_name': 'MaryJo', 'birthday': '06-02', 'siblings': 4},\n",
       " {'first_name': 'Erika', 'birthday': '09-13', 'siblings': 3},\n",
       " {'first_name': 'Gordon', 'birthday': '11-08', 'siblings': 2},\n",
       " {'first_name': 'Max', 'birthday': '03-03', 'siblings': 1},\n",
       " {'first_name': 'Andrew', 'birthday': '10-31', 'siblings': 1},\n",
       " {'first_name': 'Kiryl', 'birthday': '02-19', 'siblings': 1},\n",
       " {'first_name': 'Chris', 'birthday': '12-10', 'siblings': 2},\n",
       " {'first_name': 'Noah', 'birthday': '08-13', 'siblings': 5},\n",
       " {'first_name': 'Jon', 'birthday': '03-17', 'siblings': 1},\n",
       " {'first_name': 'Rob', 'birthday': '10-03', 'siblings': 2},\n",
       " {'first_name': 'Tara', 'birthday': '01-15', 'siblings': 1},\n",
       " {'first_name': 'David', 'birthday': '10-26', 'siblings': 2},\n",
       " {'first_name': 'Mike', 'birthday': '10-27', 'siblings': 3},\n",
       " {'first_name': 'Samuel', 'birthday': '12-17', 'siblings': 1},\n",
       " {'first_name': 'B.G.', 'birthday': '02-25', 'siblings': 2},\n",
       " {'first_name': 'Tino', 'birthday': '06-03', 'siblings': 3},\n",
       " {'first_name': 'Ulku', 'birthday': '02-12', 'siblings': 9},\n",
       " {'first_name': 'Georgiy', 'birthday': '06-08', 'siblings': 1},\n",
       " {'first_name': 'Jennifer', 'birthday': '03-10', 'siblings': 4},\n",
       " {'first_name': 'LinhDan', 'birthday': '05-04', 'siblings': 1}]"
      ]
     },
     "execution_count": 19,
     "metadata": {},
     "output_type": "execute_result"
    }
   ],
   "source": [
    "# let's see what we have in our students table\n",
    "\n",
    "# you can either access the said db via a GUI application, or you can check it out with the\n",
    "# fetchall command\n",
    "import json\n",
    "f = open('students_0422.json', 'r')\n",
    "students_0422 = json.loads(f.read())\n",
    "students_0422"
   ]
  },
  {
   "cell_type": "code",
   "execution_count": 22,
   "metadata": {},
   "outputs": [
    {
     "name": "stdout",
     "output_type": "stream",
     "text": [
      "Intro_to_SQL_code.ipynb         students.db\r\n",
      "Intro_to_SQL_live_code.ipynb    students.db-journal\r\n",
      "Intro_to_Sql_slides.ipynb       students.json\r\n",
      "Intro_to_Sql_slides.slides.html students_0422.json\r\n"
     ]
    }
   ],
   "source": [
    "!ls"
   ]
  },
  {
   "cell_type": "code",
   "execution_count": 23,
   "metadata": {
    "scrolled": false
   },
   "outputs": [
    {
     "ename": "NameError",
     "evalue": "name 'students_live_code' is not defined",
     "output_type": "error",
     "traceback": [
      "\u001b[0;31m---------------------------------------------------------------------------\u001b[0m",
      "\u001b[0;31mNameError\u001b[0m                                 Traceback (most recent call last)",
      "\u001b[0;32m<ipython-input-23-faa416bf333f>\u001b[0m in \u001b[0;36m<module>\u001b[0;34m\u001b[0m\n\u001b[1;32m      1\u001b[0m \u001b[0;31m# insert one entry from the dictionary into the sql students table\u001b[0m\u001b[0;34m\u001b[0m\u001b[0;34m\u001b[0m\u001b[0;34m\u001b[0m\u001b[0m\n\u001b[1;32m      2\u001b[0m \u001b[0mc\u001b[0m\u001b[0;34m.\u001b[0m\u001b[0mexecute\u001b[0m\u001b[0;34m(\u001b[0m\u001b[0;34m'insert into students_live_code values (\"MaryJo\", \"06-02\", 4)'\u001b[0m\u001b[0;34m)\u001b[0m\u001b[0;34m\u001b[0m\u001b[0;34m\u001b[0m\u001b[0m\n\u001b[0;32m----> 3\u001b[0;31m \u001b[0mstudents_live_code\u001b[0m\u001b[0;34m\u001b[0m\u001b[0;34m\u001b[0m\u001b[0m\n\u001b[0m",
      "\u001b[0;31mNameError\u001b[0m: name 'students_live_code' is not defined"
     ]
    }
   ],
   "source": [
    "# insert one entry from the dictionary into the sql students table\n",
    "c.execute('insert into students_live_code values (\"MaryJo\", \"06-02\", 4)')\n",
    "students_live_code"
   ]
  },
  {
   "cell_type": "code",
   "execution_count": null,
   "metadata": {},
   "outputs": [],
   "source": []
  },
  {
   "cell_type": "code",
   "execution_count": null,
   "metadata": {},
   "outputs": [],
   "source": []
  },
  {
   "cell_type": "code",
   "execution_count": 26,
   "metadata": {},
   "outputs": [],
   "source": [
    "# try this yourself! insert every entry from the dictionary into \n",
    "for i in range(len(students_0422)-1):\n",
    "    c.execute(\"insert into students_live_code values (?,?,?)\", (students_0422[i]['first_name'], students_0422[i]['birthday'], students_0422[i]['siblings']))\n",
    "    conn.commit()"
   ]
  },
  {
   "cell_type": "code",
   "execution_count": 27,
   "metadata": {},
   "outputs": [
    {
     "data": {
      "text/plain": [
       "[('some_name', '00-00', 0),\n",
       " ('Samuel', '12-17', 1),\n",
       " ('MaryJo', '06-02', 4),\n",
       " ('MaryJo', '06-02', 4),\n",
       " ('MaryJo', '06-02', 4),\n",
       " ('MaryJo', '06-02', 4),\n",
       " ('Erika', '09-13', 3),\n",
       " ('Gordon', '11-08', 2),\n",
       " ('Max', '03-03', 1),\n",
       " ('Andrew', '10-31', 1),\n",
       " ('Kiryl', '02-19', 1),\n",
       " ('Chris', '12-10', 2),\n",
       " ('Noah', '08-13', 5),\n",
       " ('Jon', '03-17', 1),\n",
       " ('Rob', '10-03', 2),\n",
       " ('Tara', '01-15', 1),\n",
       " ('David', '10-26', 2),\n",
       " ('Mike', '10-27', 3),\n",
       " ('Samuel', '12-17', 1),\n",
       " ('B.G.', '02-25', 2),\n",
       " ('Tino', '06-03', 3),\n",
       " ('Ulku', '02-12', 9),\n",
       " ('Georgiy', '06-08', 1),\n",
       " ('Jennifer', '03-10', 4)]"
      ]
     },
     "execution_count": 27,
     "metadata": {},
     "output_type": "execute_result"
    }
   ],
   "source": [
    "# examine whether the changes have been committed\n",
    "c.execute('select * from students_live_code')\n",
    "c.fetchall()"
   ]
  },
  {
   "cell_type": "markdown",
   "metadata": {},
   "source": [
    "### Selecting, querying, and filtering data"
   ]
  },
  {
   "cell_type": "code",
   "execution_count": 29,
   "metadata": {},
   "outputs": [
    {
     "data": {
      "text/plain": [
       "[('some_name', '00-00', 0),\n",
       " ('Samuel', '12-17', 1),\n",
       " ('Gordon', '11-08', 2),\n",
       " ('Max', '03-03', 1),\n",
       " ('Andrew', '10-31', 1),\n",
       " ('Kiryl', '02-19', 1),\n",
       " ('Chris', '12-10', 2),\n",
       " ('Jon', '03-17', 1),\n",
       " ('Rob', '10-03', 2),\n",
       " ('Tara', '01-15', 1),\n",
       " ('David', '10-26', 2),\n",
       " ('Samuel', '12-17', 1),\n",
       " ('B.G.', '02-25', 2),\n",
       " ('Georgiy', '06-08', 1)]"
      ]
     },
     "execution_count": 29,
     "metadata": {},
     "output_type": "execute_result"
    }
   ],
   "source": [
    "# querying people who have less than 3 siblings\n",
    "c.execute('select * from students_live_code where siblings < 3').fetchall()\n"
   ]
  },
  {
   "cell_type": "code",
   "execution_count": 30,
   "metadata": {},
   "outputs": [
    {
     "data": {
      "text/plain": [
       "[('some_name', '00-00', 0),\n",
       " ('Samuel', '12-17', 1),\n",
       " ('Gordon', '11-08', 2),\n",
       " ('Max', '03-03', 1),\n",
       " ('Andrew', '10-31', 1)]"
      ]
     },
     "execution_count": 30,
     "metadata": {},
     "output_type": "execute_result"
    }
   ],
   "source": [
    "# limit the results to a certain number\n",
    "c.execute('select * from students_live_code where siblings < 3 limit 5').fetchall()"
   ]
  },
  {
   "cell_type": "code",
   "execution_count": null,
   "metadata": {},
   "outputs": [],
   "source": [
    "# querying and filtering \n"
   ]
  },
  {
   "cell_type": "code",
   "execution_count": null,
   "metadata": {},
   "outputs": [],
   "source": [
    "# more querying\n"
   ]
  },
  {
   "cell_type": "code",
   "execution_count": 31,
   "metadata": {},
   "outputs": [
    {
     "data": {
      "text/plain": [
       "[('some_name', '00-00', 0),\n",
       " ('Tara', '01-15', 1),\n",
       " ('Ulku', '02-12', 9),\n",
       " ('Kiryl', '02-19', 1),\n",
       " ('B.G.', '02-25', 2),\n",
       " ('Max', '03-03', 1),\n",
       " ('Jennifer', '03-10', 4),\n",
       " ('Jon', '03-17', 1),\n",
       " ('MaryJo', '06-02', 4),\n",
       " ('MaryJo', '06-02', 4),\n",
       " ('MaryJo', '06-02', 4),\n",
       " ('MaryJo', '06-02', 4),\n",
       " ('Tino', '06-03', 3),\n",
       " ('Georgiy', '06-08', 1),\n",
       " ('Noah', '08-13', 5),\n",
       " ('Erika', '09-13', 3),\n",
       " ('Rob', '10-03', 2),\n",
       " ('David', '10-26', 2),\n",
       " ('Mike', '10-27', 3),\n",
       " ('Andrew', '10-31', 1),\n",
       " ('Gordon', '11-08', 2),\n",
       " ('Chris', '12-10', 2),\n",
       " ('Samuel', '12-17', 1),\n",
       " ('Samuel', '12-17', 1)]"
      ]
     },
     "execution_count": 31,
     "metadata": {},
     "output_type": "execute_result"
    }
   ],
   "source": [
    "# ordering \n",
    "c.execute('select * from students_live_code order by birthday').fetchall()"
   ]
  },
  {
   "cell_type": "code",
   "execution_count": null,
   "metadata": {},
   "outputs": [],
   "source": [
    "# simple operations \n"
   ]
  },
  {
   "cell_type": "code",
   "execution_count": null,
   "metadata": {},
   "outputs": [],
   "source": [
    "# simple operations"
   ]
  },
  {
   "cell_type": "code",
   "execution_count": null,
   "metadata": {},
   "outputs": [],
   "source": [
    "# filtering and limiting\n",
    "\n",
    "# select the people who are only child\n"
   ]
  },
  {
   "cell_type": "code",
   "execution_count": null,
   "metadata": {},
   "outputs": [],
   "source": [
    "# want 5 people who has more than 3 siblings \n"
   ]
  },
  {
   "cell_type": "code",
   "execution_count": null,
   "metadata": {},
   "outputs": [],
   "source": [
    "# only selecting certain columns\n"
   ]
  },
  {
   "cell_type": "markdown",
   "metadata": {},
   "source": [
    "## Joining and working with multiple tables \n",
    "- Like pandas df, sql allows us to work with multiple dataframes with ease with different types of JOINS\n",
    "- What are they?\n"
   ]
  },
  {
   "cell_type": "code",
   "execution_count": 34,
   "metadata": {},
   "outputs": [],
   "source": [
    "# create a new table\n",
    "c.execute('CREATE TABLE students_0128 (first_name text, birthday text, num_siblings integer)')\n",
    "conn.commit()"
   ]
  },
  {
   "cell_type": "code",
   "execution_count": 36,
   "metadata": {},
   "outputs": [
    {
     "name": "stdout",
     "output_type": "stream",
     "text": [
      "[{'first_name': 'Sean', 'birthday': '02-06', 'siblings': 4}, {'first_name': 'Cole', 'birthday': '07-20', 'siblings': 2}, {'first_name': 'Marc', 'birthday': '07-01', 'siblings': 0}, {'first_name': 'Rima', 'birthday': '07-18', 'siblings': 2}, {'first_name': 'Abdul', 'birthday': '10-08', 'siblings': 1}, {'first_name': 'Grace', 'birthday': '03-28', 'siblings': 1}, {'first_name': 'Caroline', 'birthday': '01-05', 'siblings': 3}, {'first_name': 'Kevin', 'birthday': '03-12', 'siblings': 1}, {'first_name': 'Thom', 'birthday': '08-29', 'siblings': 2}, {'first_name': 'Derrick', 'birthday': '02-23', 'siblings': 0}, {'first_name': 'Thom', 'birthday': '08-29', 'siblings': 2}, {'first_name': 'Judah', 'birthday': '10-23', 'siblings': 0}]\n"
     ]
    }
   ],
   "source": [
    "# read the files\n",
    "f= open('students.json', 'r')\n",
    "students_0128 = json.loads(f.read())\n",
    "print(students_0128)"
   ]
  },
  {
   "cell_type": "code",
   "execution_count": 37,
   "metadata": {},
   "outputs": [],
   "source": [
    "# insert all the entries from this file to the new table\n",
    "for i in range(len(students_0128)-1):\n",
    "    c.execute(\"insert into students_0128 values (?,?,?)\", (students_0128[i]['first_name'], students_0128[i]['birthday'], students_0128[i]['siblings']))\n",
    "    conn.commit()"
   ]
  },
  {
   "cell_type": "code",
   "execution_count": 39,
   "metadata": {},
   "outputs": [
    {
     "data": {
      "text/plain": [
       "[('Sean', '02-06', 4),\n",
       " ('Cole', '07-20', 2),\n",
       " ('Marc', '07-01', 0),\n",
       " ('Rima', '07-18', 2),\n",
       " ('Abdul', '10-08', 1),\n",
       " ('Grace', '03-28', 1),\n",
       " ('Caroline', '01-05', 3),\n",
       " ('Kevin', '03-12', 1),\n",
       " ('Thom', '08-29', 2),\n",
       " ('Derrick', '02-23', 0),\n",
       " ('Thom', '08-29', 2)]"
      ]
     },
     "execution_count": 39,
     "metadata": {},
     "output_type": "execute_result"
    }
   ],
   "source": [
    "c.execute('select * from students_0128').fetchall()"
   ]
  },
  {
   "cell_type": "code",
   "execution_count": 42,
   "metadata": {},
   "outputs": [
    {
     "ename": "OperationalError",
     "evalue": "ambiguous column name: main.students_0128.birthday",
     "output_type": "error",
     "traceback": [
      "\u001b[0;31m---------------------------------------------------------------------------\u001b[0m",
      "\u001b[0;31mOperationalError\u001b[0m                          Traceback (most recent call last)",
      "\u001b[0;32m<ipython-input-42-b9ac464c2efb>\u001b[0m in \u001b[0;36m<module>\u001b[0;34m\u001b[0m\n\u001b[1;32m      1\u001b[0m \u001b[0;31m# join the two tables together\u001b[0m\u001b[0;34m\u001b[0m\u001b[0;34m\u001b[0m\u001b[0;34m\u001b[0m\u001b[0m\n\u001b[0;32m----> 2\u001b[0;31m \u001b[0mc\u001b[0m\u001b[0;34m.\u001b[0m\u001b[0mexecute\u001b[0m\u001b[0;34m(\u001b[0m\u001b[0;34m'select * from students_0128 join students_0128 using (first_name)'\u001b[0m\u001b[0;34m)\u001b[0m\u001b[0;34m\u001b[0m\u001b[0;34m\u001b[0m\u001b[0m\n\u001b[0m\u001b[1;32m      3\u001b[0m \u001b[0mc\u001b[0m\u001b[0;34m.\u001b[0m\u001b[0mfetchall\u001b[0m\u001b[0;34m(\u001b[0m\u001b[0;34m)\u001b[0m\u001b[0;34m\u001b[0m\u001b[0;34m\u001b[0m\u001b[0m\n",
      "\u001b[0;31mOperationalError\u001b[0m: ambiguous column name: main.students_0128.birthday"
     ]
    }
   ],
   "source": [
    "# join the two tables together\n",
    "c.execute('select * from students_0128 join students_0128 using (first_name)')\n",
    "c.fetchall()"
   ]
  },
  {
   "cell_type": "code",
   "execution_count": 43,
   "metadata": {},
   "outputs": [
    {
     "data": {
      "text/plain": [
       "[('some_name', '00-00', 0, 'Derrick', '02-23', 0),\n",
       " ('some_name', '00-00', 0, 'Marc', '07-01', 0),\n",
       " ('Samuel', '12-17', 1, 'Abdul', '10-08', 1),\n",
       " ('Samuel', '12-17', 1, 'Grace', '03-28', 1),\n",
       " ('Samuel', '12-17', 1, 'Kevin', '03-12', 1),\n",
       " ('MaryJo', '06-02', 4, 'Sean', '02-06', 4),\n",
       " ('MaryJo', '06-02', 4, 'Sean', '02-06', 4),\n",
       " ('MaryJo', '06-02', 4, 'Sean', '02-06', 4),\n",
       " ('MaryJo', '06-02', 4, 'Sean', '02-06', 4),\n",
       " ('Erika', '09-13', 3, 'Caroline', '01-05', 3),\n",
       " ('Gordon', '11-08', 2, 'Cole', '07-20', 2),\n",
       " ('Gordon', '11-08', 2, 'Rima', '07-18', 2),\n",
       " ('Gordon', '11-08', 2, 'Thom', '08-29', 2),\n",
       " ('Gordon', '11-08', 2, 'Thom', '08-29', 2),\n",
       " ('Max', '03-03', 1, 'Abdul', '10-08', 1),\n",
       " ('Max', '03-03', 1, 'Grace', '03-28', 1),\n",
       " ('Max', '03-03', 1, 'Kevin', '03-12', 1),\n",
       " ('Andrew', '10-31', 1, 'Abdul', '10-08', 1),\n",
       " ('Andrew', '10-31', 1, 'Grace', '03-28', 1),\n",
       " ('Andrew', '10-31', 1, 'Kevin', '03-12', 1),\n",
       " ('Kiryl', '02-19', 1, 'Abdul', '10-08', 1),\n",
       " ('Kiryl', '02-19', 1, 'Grace', '03-28', 1),\n",
       " ('Kiryl', '02-19', 1, 'Kevin', '03-12', 1),\n",
       " ('Chris', '12-10', 2, 'Cole', '07-20', 2),\n",
       " ('Chris', '12-10', 2, 'Rima', '07-18', 2),\n",
       " ('Chris', '12-10', 2, 'Thom', '08-29', 2),\n",
       " ('Chris', '12-10', 2, 'Thom', '08-29', 2),\n",
       " ('Jon', '03-17', 1, 'Abdul', '10-08', 1),\n",
       " ('Jon', '03-17', 1, 'Grace', '03-28', 1),\n",
       " ('Jon', '03-17', 1, 'Kevin', '03-12', 1),\n",
       " ('Rob', '10-03', 2, 'Cole', '07-20', 2),\n",
       " ('Rob', '10-03', 2, 'Rima', '07-18', 2),\n",
       " ('Rob', '10-03', 2, 'Thom', '08-29', 2),\n",
       " ('Rob', '10-03', 2, 'Thom', '08-29', 2),\n",
       " ('Tara', '01-15', 1, 'Abdul', '10-08', 1),\n",
       " ('Tara', '01-15', 1, 'Grace', '03-28', 1),\n",
       " ('Tara', '01-15', 1, 'Kevin', '03-12', 1),\n",
       " ('David', '10-26', 2, 'Cole', '07-20', 2),\n",
       " ('David', '10-26', 2, 'Rima', '07-18', 2),\n",
       " ('David', '10-26', 2, 'Thom', '08-29', 2),\n",
       " ('David', '10-26', 2, 'Thom', '08-29', 2),\n",
       " ('Mike', '10-27', 3, 'Caroline', '01-05', 3),\n",
       " ('Samuel', '12-17', 1, 'Abdul', '10-08', 1),\n",
       " ('Samuel', '12-17', 1, 'Grace', '03-28', 1),\n",
       " ('Samuel', '12-17', 1, 'Kevin', '03-12', 1),\n",
       " ('B.G.', '02-25', 2, 'Cole', '07-20', 2),\n",
       " ('B.G.', '02-25', 2, 'Rima', '07-18', 2),\n",
       " ('B.G.', '02-25', 2, 'Thom', '08-29', 2),\n",
       " ('B.G.', '02-25', 2, 'Thom', '08-29', 2),\n",
       " ('Tino', '06-03', 3, 'Caroline', '01-05', 3),\n",
       " ('Georgiy', '06-08', 1, 'Abdul', '10-08', 1),\n",
       " ('Georgiy', '06-08', 1, 'Grace', '03-28', 1),\n",
       " ('Georgiy', '06-08', 1, 'Kevin', '03-12', 1),\n",
       " ('Jennifer', '03-10', 4, 'Sean', '02-06', 4)]"
      ]
     },
     "execution_count": 43,
     "metadata": {},
     "output_type": "execute_result"
    }
   ],
   "source": [
    "c.execute(\"select * from students_live_code join students_0128 on students_live_code.siblings=students_0128.num_siblings\").fetchall()"
   ]
  },
  {
   "cell_type": "code",
   "execution_count": null,
   "metadata": {},
   "outputs": [],
   "source": []
  },
  {
   "cell_type": "markdown",
   "metadata": {},
   "source": [
    "## Part III. Communicating and Comparison with Pandas "
   ]
  },
  {
   "cell_type": "code",
   "execution_count": null,
   "metadata": {},
   "outputs": [],
   "source": [
    "import pandas as pd\n",
    "df = pd.read_sql_query(\"select * from students\", conn)"
   ]
  },
  {
   "cell_type": "code",
   "execution_count": null,
   "metadata": {},
   "outputs": [],
   "source": [
    "df.head()"
   ]
  },
  {
   "cell_type": "code",
   "execution_count": null,
   "metadata": {},
   "outputs": [],
   "source": [
    "# remember how we save this to a csv?\n",
    "df.to_csv(\"students.csv\")"
   ]
  }
 ],
 "metadata": {
  "kernelspec": {
   "display_name": "Python 3",
   "language": "python",
   "name": "python3"
  },
  "language_info": {
   "codemirror_mode": {
    "name": "ipython",
    "version": 3
   },
   "file_extension": ".py",
   "mimetype": "text/x-python",
   "name": "python",
   "nbconvert_exporter": "python",
   "pygments_lexer": "ipython3",
   "version": "3.7.3"
  }
 },
 "nbformat": 4,
 "nbformat_minor": 2
}
