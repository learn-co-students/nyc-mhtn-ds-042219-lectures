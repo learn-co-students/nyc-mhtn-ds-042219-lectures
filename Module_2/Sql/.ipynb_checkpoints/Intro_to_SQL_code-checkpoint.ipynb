{
 "cells": [
  {
   "cell_type": "markdown",
   "metadata": {},
   "source": [
    "# Intro to SQL Databases"
   ]
  },
  {
   "cell_type": "markdown",
   "metadata": {},
   "source": [
    "Agenda today:\n",
    "- Introducing structure and overview of relational databases \n",
    "- Different types of sql databases\n",
    "- Instantiate database instance on your local computer\n",
    "- Working with querying data in db"
   ]
  },
  {
   "cell_type": "markdown",
   "metadata": {},
   "source": [
    "## Part I. DB Structures "
   ]
  },
  {
   "cell_type": "markdown",
   "metadata": {},
   "source": [
    "### What is a Database?\n",
    "- In general, databases store sets of data that can be queried for use in other applications. A database management system supports the development, administration and use of database platforms."
   ]
  },
  {
   "cell_type": "markdown",
   "metadata": {},
   "source": [
    "### What is a Relational Database? \n",
    "- An realtionsal database management system (RDBMS) is a type of DBMS with a row-based table structure that connects related data elements and includes functions that maintain the security, accuracy, integrity and consistency of the data.\n",
    "- The most basic RDBMS functions are related to create, read, update and delete operations, collectively known as CRUD."
   ]
  },
  {
   "cell_type": "markdown",
   "metadata": {},
   "source": [
    "### What is SQL?\n",
    "\n",
    "- SQL stands for Structured Query Language.\n",
    "- A programming language used to communicate with data stored in a relational database management system.\n",
    "- SQL syntax is similar to the English language, which makes it relatively easy to write, read, and interpret."
   ]
  },
  {
   "cell_type": "markdown",
   "metadata": {},
   "source": [
    "### POPULAR RDBMS\n",
    "\n",
    "- SQLite\n",
    "- MySQL\n",
    "- PostgreSql\n",
    "- Oracle DB\n",
    "- SQL Server"
   ]
  },
  {
   "cell_type": "markdown",
   "metadata": {},
   "source": [
    "### SQLite\n",
    "- SQLite is a popular open source SQL database. \n",
    "- It can store an entire database in a single file.\n",
    "- It is 'lite' because it is not server based.\n",
    "- Does not have many features of server-based RDBMS like users and permissions.\n",
    "- Great to get up and running quick, not good for complex projects.\n"
   ]
  },
  {
   "cell_type": "markdown",
   "metadata": {},
   "source": [
    "### MySQL\n",
    "\n",
    "- MySQL is the most popular open source SQL database. \n",
    "- It is typically used for web application development, and often accessed using PHP. \n",
    "- It is easy to use, inexpensive, reliable and has a large community of developers who can help answer questions.\n",
    "- Open source development has lagged since Oracle has taken control of MySQL.\n",
    "- Has been known to suffer from poor performance when scaling, \n",
    "- Does not include some advanced features that developers may be used to."
   ]
  },
  {
   "cell_type": "markdown",
   "metadata": {},
   "source": [
    "### PostgreSQL\n",
    "\n",
    "- PostgreSQL is an open-source SQL database that is not controlled by any corporation.\n",
    "- PostgreSQL shares many of the same advantages of MySQL.\n",
    "- It is slower in performance than other databases such as MySQL\n",
    "- Harder to come by hosts or service providers that offer managed PostgreSQL instances. "
   ]
  },
  {
   "cell_type": "markdown",
   "metadata": {},
   "source": [
    "### Oracle DB\n",
    "\n",
    "- Owned by Oracle Corporation, and the code is not open sourced. \n",
    "- Oracle DB is for large applications, particularly in the banking industry. \n",
    "- The main disadvantage of using Oracle is that it is not free."
   ]
  },
  {
   "cell_type": "markdown",
   "metadata": {},
   "source": [
    "## Part II. Working with Sqlite DB"
   ]
  },
  {
   "cell_type": "markdown",
   "metadata": {},
   "source": [
    "First of all, everyone fill out a dictionary of the following structure:\n",
    "```javascript\n",
    "    {'first_name': 'Fangfang',\n",
    "    'birthday':'09-07'\n",
    "    }```"
   ]
  },
  {
   "cell_type": "markdown",
   "metadata": {},
   "source": [
    "### Instantiating, creating, and inserting data into a database"
   ]
  },
  {
   "cell_type": "code",
   "execution_count": 5,
   "metadata": {},
   "outputs": [],
   "source": [
    "## instantiate a sql instance on your local computer \n",
    "import sqlite3\n",
    "\n",
    "# we then need to establish a connection object that represent the database\n",
    "conn = sqlite3.connect('students.db')\n",
    "\n",
    "# we then create a cursor that allow us to interact with, and create sql commands\n",
    "c = conn.cursor()"
   ]
  },
  {
   "cell_type": "code",
   "execution_count": 6,
   "metadata": {},
   "outputs": [
    {
     "data": {
      "text/plain": [
       "<sqlite3.Cursor at 0x1128d7ab0>"
      ]
     },
     "execution_count": 6,
     "metadata": {},
     "output_type": "execute_result"
    }
   ],
   "source": [
    "# create a table, insert entries, and query results \n",
    "c.execute(\"\"\"CREATE TABLE students (\n",
    "            first_name text,\n",
    "            birth_date text,\n",
    "            num_siblings integer\n",
    "            )\"\"\")\n"
   ]
  },
  {
   "cell_type": "code",
   "execution_count": 9,
   "metadata": {},
   "outputs": [],
   "source": [
    "# your_info\n",
    "students = {\n",
    "    'first_name' : 'something',\n",
    "    'birthday' :  '09-07',\n",
    "    'siblings' : 2\n",
    "}"
   ]
  },
  {
   "cell_type": "code",
   "execution_count": 10,
   "metadata": {},
   "outputs": [
    {
     "data": {
      "text/plain": [
       "{'first_name': 'something', 'birthday': '09-07', 'siblings': 2}"
      ]
     },
     "execution_count": 10,
     "metadata": {},
     "output_type": "execute_result"
    }
   ],
   "source": [
    "students"
   ]
  },
  {
   "cell_type": "code",
   "execution_count": null,
   "metadata": {},
   "outputs": [],
   "source": [
    "# insert entries into this db \n",
    "c.execute(\"\"\"INSERT INTO students VALUES ('something', '09-07',2)\"\"\")\n",
    "\n",
    "# This method sends a COMMIT statement to the MySQL server, committing the current transaction.\n",
    "#Since by default Connector/Python does not autocommit, it is important to call this method after every \n",
    "# transaction that modifies data for tables that use transactional storage engines.\n",
    "conn.commit()\n",
    "\n",
    "# closing the cursor\n",
    "c.close()\n",
    "\n",
    "# closing the connection\n",
    "conn.close()\n",
    "\n"
   ]
  },
  {
   "cell_type": "code",
   "execution_count": null,
   "metadata": {},
   "outputs": [],
   "source": [
    "# once you have closed the cursor and the connection, you cannot query from the db unless \n",
    "# you establish another connection"
   ]
  },
  {
   "cell_type": "code",
   "execution_count": null,
   "metadata": {},
   "outputs": [],
   "source": [
    "conn = sqlite3.connect('students.db')\n",
    "c = conn.cursor()"
   ]
  },
  {
   "cell_type": "code",
   "execution_count": null,
   "metadata": {},
   "outputs": [],
   "source": [
    "# insert even more entries into this table\n",
    "c.execute(\"\"\"INSERT INTO students VALUES ('sean', '02-05',1)\"\"\")\n",
    "conn.commit()"
   ]
  },
  {
   "cell_type": "code",
   "execution_count": null,
   "metadata": {},
   "outputs": [],
   "source": [
    "# let's see what we have in our students table\n",
    "\n",
    "# you can either access the said db via a GUI application, or you can\n",
    "\n",
    "c.execute(\"\"\"select * from students\"\"\")\n",
    "c.fetchall()"
   ]
  },
  {
   "cell_type": "code",
   "execution_count": null,
   "metadata": {},
   "outputs": [],
   "source": [
    "# lets insert all of the data into db \n",
    "import json\n",
    "f = open('students.json','r')\n",
    "student_data = json.loads(f.read())"
   ]
  },
  {
   "cell_type": "code",
   "execution_count": null,
   "metadata": {
    "scrolled": true
   },
   "outputs": [],
   "source": [
    "student_data"
   ]
  },
  {
   "cell_type": "code",
   "execution_count": null,
   "metadata": {},
   "outputs": [],
   "source": [
    "student_data[0]['first_name']"
   ]
  },
  {
   "cell_type": "code",
   "execution_count": null,
   "metadata": {
    "scrolled": false
   },
   "outputs": [],
   "source": [
    "# insert one entry from the dictionary into the sql students table\n",
    "c.execute(\"INSERT INTO students VALUES (?,?,?)\",(student_data[0]['first_name'], student_data[0]['birthday'], student_data[0]['siblings']))\n"
   ]
  },
  {
   "cell_type": "code",
   "execution_count": null,
   "metadata": {},
   "outputs": [],
   "source": [
    "conn.commit()"
   ]
  },
  {
   "cell_type": "code",
   "execution_count": null,
   "metadata": {},
   "outputs": [],
   "source": [
    "c.execute(\"select * from students\")\n",
    "c.fetchall()"
   ]
  },
  {
   "cell_type": "code",
   "execution_count": null,
   "metadata": {},
   "outputs": [],
   "source": [
    "# try this yourself! insert every entry from the dictionary into \n",
    "for i in range(1, len(student_data)-1):\n",
    "    c.execute(\"INSERT INTO students VALUES (?, ?, ?)\", (student_data[i]['first_name'],student_data[i]['birthday'],student_data[i]['siblings']))\n",
    "    conn.commit()"
   ]
  },
  {
   "cell_type": "code",
   "execution_count": null,
   "metadata": {},
   "outputs": [],
   "source": [
    "# examine whether the changes have been committed\n",
    "c.execute(\"select * from students\")\n",
    "c.fetchall()"
   ]
  },
  {
   "cell_type": "markdown",
   "metadata": {},
   "source": [
    "### Selecting, querying, and filtering data"
   ]
  },
  {
   "cell_type": "code",
   "execution_count": null,
   "metadata": {},
   "outputs": [],
   "source": [
    "# querying \n",
    "c.execute(\"SELECT * FROM students\")\n",
    "conn.commit()\n",
    "c.fetchall()"
   ]
  },
  {
   "cell_type": "code",
   "execution_count": null,
   "metadata": {},
   "outputs": [],
   "source": [
    "# querying and filtering \n",
    "c.execute(\"SELECT * FROM students where first_name = 'Grace'\")\n",
    "conn.commit()\n",
    "c.fetchone()"
   ]
  },
  {
   "cell_type": "code",
   "execution_count": null,
   "metadata": {},
   "outputs": [],
   "source": [
    "# more querying\n",
    "c.execute(\"SELECT * FROM students WHERE first_name != 'Kevin'\")\n",
    "conn.commit()"
   ]
  },
  {
   "cell_type": "code",
   "execution_count": null,
   "metadata": {},
   "outputs": [],
   "source": [
    "c.fetchall()"
   ]
  },
  {
   "cell_type": "code",
   "execution_count": null,
   "metadata": {},
   "outputs": [],
   "source": [
    "# ordering \n",
    "c.execute(\"SELECT * FROM students order by first_name\")\n",
    "c.fetchall()"
   ]
  },
  {
   "cell_type": "code",
   "execution_count": null,
   "metadata": {},
   "outputs": [],
   "source": [
    "# simple operations \n",
    "c.execute(\"SELECT Count (*) FROM students\")\n",
    "c.fetchall()"
   ]
  },
  {
   "cell_type": "code",
   "execution_count": null,
   "metadata": {},
   "outputs": [],
   "source": [
    "# filtering and limiting\n",
    "\n",
    "# select the people who are only child\n",
    "c.execute(\"select * from students where num_siblings < 1\")\n",
    "conn.commit()\n",
    "c.fetchall()"
   ]
  },
  {
   "cell_type": "code",
   "execution_count": null,
   "metadata": {},
   "outputs": [],
   "source": [
    "# want three people who has siblings \n",
    "c.execute(\"select * from students where num_siblings > 0 limit 3\")\n",
    "conn.commit()\n",
    "c.fetchall()"
   ]
  },
  {
   "cell_type": "code",
   "execution_count": null,
   "metadata": {},
   "outputs": [],
   "source": [
    "# only selecting certain columns\n",
    "c.execute(\"select first_name from students where num_siblings > 2 \")\n",
    "conn.commit()\n",
    "c.fetchall()"
   ]
  },
  {
   "cell_type": "markdown",
   "metadata": {},
   "source": [
    "## Joining and working with multiple tables \n",
    "- Like pandas df, sql allows us to work with multiple dataframes with ease with different types of JOINS\n",
    "- What are they?\n"
   ]
  },
  {
   "cell_type": "markdown",
   "metadata": {},
   "source": [
    "## Part III. Communicating and Comparison with Pandas "
   ]
  },
  {
   "cell_type": "code",
   "execution_count": null,
   "metadata": {},
   "outputs": [],
   "source": [
    "import pandas as pd\n",
    "df = pd.read_sql_query(\"select * from students\", conn)"
   ]
  },
  {
   "cell_type": "code",
   "execution_count": null,
   "metadata": {},
   "outputs": [],
   "source": [
    "df.head()"
   ]
  },
  {
   "cell_type": "code",
   "execution_count": null,
   "metadata": {},
   "outputs": [],
   "source": [
    "# remember how we save this to a csv?\n",
    "df.to_csv(\"students.csv\")"
   ]
  }
 ],
 "metadata": {
  "kernelspec": {
   "display_name": "Python 3",
   "language": "python",
   "name": "python3"
  },
  "language_info": {
   "codemirror_mode": {
    "name": "ipython",
    "version": 3
   },
   "file_extension": ".py",
   "mimetype": "text/x-python",
   "name": "python",
   "nbconvert_exporter": "python",
   "pygments_lexer": "ipython3",
   "version": "3.7.3"
  }
 },
 "nbformat": 4,
 "nbformat_minor": 2
}
