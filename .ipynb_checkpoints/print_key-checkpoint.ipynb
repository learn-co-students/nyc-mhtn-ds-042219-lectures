{
 "cells": [
  {
   "cell_type": "code",
   "execution_count": 1,
   "metadata": {},
   "outputs": [],
   "source": [
    "import pandas as pd\n",
    "import numpy as np\n",
    "from random import seed, random, randint"
   ]
  },
  {
   "cell_type": "code",
   "execution_count": 2,
   "metadata": {},
   "outputs": [],
   "source": [
    "secretdata = {'name': ['Nicole', 'Kal', 'Linh', 'Mike', 'Tino', 'Ulku', 'BG', 'Chris', 'Dave', 'Eric', 'Erika', 'Francis', 'Georgiy', 'Jen', 'Jon', 'Kiryl', 'Lora', 'MaryJo', 'Max', 'Noah', 'Rob', 'Tara'], 'worst_fear': ['Public Speaking', 'Heights', 'Bugs', 'Drowning', 'Blood/Needles', 'Small Spaces', 'Flying', 'Clowns', 'Elevators', 'Zombies', 'Pain', 'The Dark', 'Quentin Tarantino', 'Dogs', 'Flowers', 'Failure', 'Spiders', 'Dentists', 'Cats', 'Teenagers', 'Fear', 'Hospitals']}              \n",
    "              "
   ]
  },
  {
   "cell_type": "code",
   "execution_count": 3,
   "metadata": {},
   "outputs": [],
   "source": [
    "secretdf = pd.DataFrame(data=secretdata)"
   ]
  },
  {
   "cell_type": "code",
   "execution_count": 4,
   "metadata": {},
   "outputs": [],
   "source": [
    "seed(1)"
   ]
  },
  {
   "cell_type": "code",
   "execution_count": 5,
   "metadata": {},
   "outputs": [
    {
     "name": "stdout",
     "output_type": "stream",
     "text": [
      "255383620\n",
      "722289113\n",
      "972536659\n",
      "931207864\n",
      "178871547\n",
      "384989398\n",
      "237725353\n",
      "643080485\n",
      "928188312\n",
      "593748463\n",
      "618180575\n",
      "810753741\n",
      "518719852\n",
      "957996364\n",
      "336548370\n",
      "211892074\n",
      "634943207\n",
      "141548977\n",
      "529665130\n",
      "575791208\n",
      "763342692\n",
      "929603112\n"
     ]
    }
   ],
   "source": [
    "for _ in range(22):\n",
    "    value = randint(111111111, 999999999)\n",
    "    print(value)"
   ]
  },
  {
   "cell_type": "code",
   "execution_count": 6,
   "metadata": {},
   "outputs": [],
   "source": [
    "secretdf['SSN'] = [99562980, 228673626, 967192278, 781987242, 309334784, 480932345,\n",
    "422801534, 185752681, 290930989, 282507713, 385147330, 677381496, 291655371, 816190665,\n",
    "404150758, 807113567, 875174982, 427320322, 599343269, 865549552, 456857871, 644217118]"
   ]
  },
  {
   "cell_type": "code",
   "execution_count": 7,
   "metadata": {},
   "outputs": [
    {
     "data": {
      "text/html": [
       "<div>\n",
       "<style scoped>\n",
       "    .dataframe tbody tr th:only-of-type {\n",
       "        vertical-align: middle;\n",
       "    }\n",
       "\n",
       "    .dataframe tbody tr th {\n",
       "        vertical-align: top;\n",
       "    }\n",
       "\n",
       "    .dataframe thead th {\n",
       "        text-align: right;\n",
       "    }\n",
       "</style>\n",
       "<table border=\"1\" class=\"dataframe\">\n",
       "  <thead>\n",
       "    <tr style=\"text-align: right;\">\n",
       "      <th></th>\n",
       "      <th>name</th>\n",
       "      <th>worst_fear</th>\n",
       "      <th>SSN</th>\n",
       "    </tr>\n",
       "  </thead>\n",
       "  <tbody>\n",
       "    <tr>\n",
       "      <th>0</th>\n",
       "      <td>Nicole</td>\n",
       "      <td>Public Speaking</td>\n",
       "      <td>99562980</td>\n",
       "    </tr>\n",
       "    <tr>\n",
       "      <th>1</th>\n",
       "      <td>Kal</td>\n",
       "      <td>Heights</td>\n",
       "      <td>228673626</td>\n",
       "    </tr>\n",
       "    <tr>\n",
       "      <th>2</th>\n",
       "      <td>Linh</td>\n",
       "      <td>Bugs</td>\n",
       "      <td>967192278</td>\n",
       "    </tr>\n",
       "    <tr>\n",
       "      <th>3</th>\n",
       "      <td>Mike</td>\n",
       "      <td>Drowning</td>\n",
       "      <td>781987242</td>\n",
       "    </tr>\n",
       "    <tr>\n",
       "      <th>4</th>\n",
       "      <td>Tino</td>\n",
       "      <td>Blood/Needles</td>\n",
       "      <td>309334784</td>\n",
       "    </tr>\n",
       "    <tr>\n",
       "      <th>5</th>\n",
       "      <td>Ulku</td>\n",
       "      <td>Small Spaces</td>\n",
       "      <td>480932345</td>\n",
       "    </tr>\n",
       "    <tr>\n",
       "      <th>6</th>\n",
       "      <td>BG</td>\n",
       "      <td>Flying</td>\n",
       "      <td>422801534</td>\n",
       "    </tr>\n",
       "    <tr>\n",
       "      <th>7</th>\n",
       "      <td>Chris</td>\n",
       "      <td>Clowns</td>\n",
       "      <td>185752681</td>\n",
       "    </tr>\n",
       "    <tr>\n",
       "      <th>8</th>\n",
       "      <td>Dave</td>\n",
       "      <td>Elevators</td>\n",
       "      <td>290930989</td>\n",
       "    </tr>\n",
       "    <tr>\n",
       "      <th>9</th>\n",
       "      <td>Eric</td>\n",
       "      <td>Zombies</td>\n",
       "      <td>282507713</td>\n",
       "    </tr>\n",
       "    <tr>\n",
       "      <th>10</th>\n",
       "      <td>Erika</td>\n",
       "      <td>Pain</td>\n",
       "      <td>385147330</td>\n",
       "    </tr>\n",
       "    <tr>\n",
       "      <th>11</th>\n",
       "      <td>Francis</td>\n",
       "      <td>The Dark</td>\n",
       "      <td>677381496</td>\n",
       "    </tr>\n",
       "    <tr>\n",
       "      <th>12</th>\n",
       "      <td>Georgiy</td>\n",
       "      <td>Quentin Tarantino</td>\n",
       "      <td>291655371</td>\n",
       "    </tr>\n",
       "    <tr>\n",
       "      <th>13</th>\n",
       "      <td>Jen</td>\n",
       "      <td>Dogs</td>\n",
       "      <td>816190665</td>\n",
       "    </tr>\n",
       "    <tr>\n",
       "      <th>14</th>\n",
       "      <td>Jon</td>\n",
       "      <td>Flowers</td>\n",
       "      <td>404150758</td>\n",
       "    </tr>\n",
       "    <tr>\n",
       "      <th>15</th>\n",
       "      <td>Kiryl</td>\n",
       "      <td>Failure</td>\n",
       "      <td>807113567</td>\n",
       "    </tr>\n",
       "    <tr>\n",
       "      <th>16</th>\n",
       "      <td>Lora</td>\n",
       "      <td>Spiders</td>\n",
       "      <td>875174982</td>\n",
       "    </tr>\n",
       "    <tr>\n",
       "      <th>17</th>\n",
       "      <td>MaryJo</td>\n",
       "      <td>Dentists</td>\n",
       "      <td>427320322</td>\n",
       "    </tr>\n",
       "    <tr>\n",
       "      <th>18</th>\n",
       "      <td>Max</td>\n",
       "      <td>Cats</td>\n",
       "      <td>599343269</td>\n",
       "    </tr>\n",
       "    <tr>\n",
       "      <th>19</th>\n",
       "      <td>Noah</td>\n",
       "      <td>Teenagers</td>\n",
       "      <td>865549552</td>\n",
       "    </tr>\n",
       "    <tr>\n",
       "      <th>20</th>\n",
       "      <td>Rob</td>\n",
       "      <td>Fear</td>\n",
       "      <td>456857871</td>\n",
       "    </tr>\n",
       "    <tr>\n",
       "      <th>21</th>\n",
       "      <td>Tara</td>\n",
       "      <td>Hospitals</td>\n",
       "      <td>644217118</td>\n",
       "    </tr>\n",
       "  </tbody>\n",
       "</table>\n",
       "</div>"
      ],
      "text/plain": [
       "       name         worst_fear        SSN\n",
       "0    Nicole    Public Speaking   99562980\n",
       "1       Kal            Heights  228673626\n",
       "2      Linh               Bugs  967192278\n",
       "3      Mike           Drowning  781987242\n",
       "4      Tino      Blood/Needles  309334784\n",
       "5      Ulku       Small Spaces  480932345\n",
       "6        BG             Flying  422801534\n",
       "7     Chris             Clowns  185752681\n",
       "8      Dave          Elevators  290930989\n",
       "9      Eric            Zombies  282507713\n",
       "10    Erika               Pain  385147330\n",
       "11  Francis           The Dark  677381496\n",
       "12  Georgiy  Quentin Tarantino  291655371\n",
       "13      Jen               Dogs  816190665\n",
       "14      Jon            Flowers  404150758\n",
       "15    Kiryl            Failure  807113567\n",
       "16     Lora            Spiders  875174982\n",
       "17   MaryJo           Dentists  427320322\n",
       "18      Max               Cats  599343269\n",
       "19     Noah          Teenagers  865549552\n",
       "20      Rob               Fear  456857871\n",
       "21     Tara          Hospitals  644217118"
      ]
     },
     "execution_count": 7,
     "metadata": {},
     "output_type": "execute_result"
    }
   ],
   "source": [
    "secretdf"
   ]
  },
  {
   "cell_type": "code",
   "execution_count": 8,
   "metadata": {},
   "outputs": [],
   "source": [
    "secretdf.to_csv('secretdf.csv', index=False)"
   ]
  },
  {
   "cell_type": "code",
   "execution_count": 19,
   "metadata": {},
   "outputs": [
    {
     "name": "stdout",
     "output_type": "stream",
     "text": [
      "b'rTSLQPy0DLpIRYFVeL8C_sxD8Z918Km70IbB-s1nhyE='\n"
     ]
    }
   ],
   "source": [
    "import cryptography\n",
    "from cryptography.fernet import Fernet\n",
    "\n",
    "key = Fernet.generate_key()\n",
    "print(key)"
   ]
  },
  {
   "cell_type": "code",
   "execution_count": 16,
   "metadata": {},
   "outputs": [
    {
     "name": "stdout",
     "output_type": "stream",
     "text": [
      "b'dxj6w5uPIZ9sNTRYwvyWFkMrYsDc5TQ0icZ0T5qq2EY='\n"
     ]
    }
   ],
   "source": [
    "import cryptography\n",
    "from cryptography.fernet import Fernet\n",
    "\n",
    "key = Fernet.generate_key()\n",
    "print(key)\n",
    "\n",
    "file = open('key.key', 'wb')\n",
    "file.write(key)\n",
    "file.close()"
   ]
  },
  {
   "cell_type": "code",
   "execution_count": 11,
   "metadata": {},
   "outputs": [
    {
     "name": "stdout",
     "output_type": "stream",
     "text": [
      "b'j-AlZYZyaRahHbQGFymSoi-PEZDfIuziQp1Oaj3Y1fM='\n"
     ]
    }
   ],
   "source": [
    "file = open('key.key', 'rb')\n",
    "key  = file.read()\n",
    "file.close()\n",
    "print (key)"
   ]
  },
  {
   "cell_type": "code",
   "execution_count": 81,
   "metadata": {},
   "outputs": [
    {
     "data": {
      "text/plain": [
       "b\"\\xd8\\x95\\xeeP\\xd4'\\x03\\xb0\\x82\\xa20t\\xdek\\xf5\\xe0\""
      ]
     },
     "execution_count": 81,
     "metadata": {},
     "output_type": "execute_result"
    }
   ],
   "source": [
    "import os\n",
    "os.urandom(16)"
   ]
  },
  {
   "cell_type": "code",
   "execution_count": 21,
   "metadata": {},
   "outputs": [
    {
     "name": "stdout",
     "output_type": "stream",
     "text": [
      "b'MRts5xtFevGO66M6zvT1U5Ky_cTj29bMTM8qDbgqO6Y='\n"
     ]
    }
   ],
   "source": [
    "import base64\n",
    "import os\n",
    "from cryptography.hazmat.backends import default_backend\n",
    "from cryptography.hazmat.primitives import hashes\n",
    "from cryptography.hazmat.primitives.kdf.pbkdf2 import PBKDF2HMAC\n",
    "\n",
    "password_provided = 'passwords'\n",
    "password = password_provided.encode()\n",
    "\n",
    "salt = b\"\\xd8\\x95\\xeeP\\xd4'\\x03\\xb0\\x82\\xa20t\\xdek\\xf5\\xe0\"\n",
    "\n",
    "kdf = PBKDF2HMAC(algorithm=hashes.SHA256(),\n",
    "                length=32,\n",
    "                salt=salt,\n",
    "                iterations=100000,\n",
    "                backend=default_backend())\n",
    "\n",
    "key = base64.urlsafe_b64encode(kdf.derive(password))\n",
    "print(key)"
   ]
  },
  {
   "cell_type": "code",
   "execution_count": 83,
   "metadata": {},
   "outputs": [
    {
     "name": "stdout",
     "output_type": "stream",
     "text": [
      "b'3kd9JkdbpuKX5QrCTp5HxcQaEcl2CVN-ZLIE1YctuUA='\n"
     ]
    }
   ],
   "source": [
    "import base64\n",
    "import os\n",
    "from cryptography.hazmat.backends import default_backend\n",
    "from cryptography.hazmat.primitives import hashes\n",
    "from cryptography.hazmat.primitives.kdf.pbkdf2 import PBKDF2HMAC\n",
    "\n",
    "password_provided = '123456'\n",
    "password = password_provided.encode()\n",
    "\n",
    "salt = b\"\\xb9\\x1f|}'S\\xa1\\x96\\xeb\\x154\\x04\\x88\\xf3\\xdf\\x05\"\n",
    "\n",
    "kdf = PBKDF2HMAC(algorithm=hashes.SHA256(),\n",
    "                length=32,\n",
    "                salt=salt,\n",
    "                iterations=100000,\n",
    "                backend=default_backend())\n",
    "\n",
    "key = base64.urlsafe_b64encode(kdf.derive(password))\n",
    "print(key)"
   ]
  },
  {
   "cell_type": "code",
   "execution_count": 87,
   "metadata": {},
   "outputs": [],
   "source": [
    "# Get the key from the file\n",
    "file = open('key.key', 'rb')\n",
    "key = file.read()\n",
    "file.close()\n",
    "\n",
    "#  Open the file to encrypt\n",
    "with open('secretdf.csv', 'rb') as f:\n",
    "    data = f.read()\n",
    "\n",
    "fernet = Fernet(key)\n",
    "encrypted = fernet.encrypt(data)\n",
    "\n",
    "# Write the encrypted file\n",
    "with open('secretdf.csv.encrypted', 'wb') as f:\n",
    "    f.write(encrypted)\n"
   ]
  },
  {
   "cell_type": "code",
   "execution_count": 88,
   "metadata": {},
   "outputs": [],
   "source": [
    "# Get the key from the file\n",
    "file = open('key.key', 'rb')\n",
    "key = file.read()\n",
    "file.close()\n",
    "\n",
    "#  Open the file to encrypt\n",
    "with open('secretdf.csv.encrypted', 'rb') as f:\n",
    "    data = f.read()\n",
    "\n",
    "fernet = Fernet(key)\n",
    "encrypted = fernet.decrypt(data)\n",
    "\n",
    "# Write the encrypted file\n",
    "with open('secretdf.csv.decrypted', 'wb') as f:\n",
    "    f.write(encrypted)\n"
   ]
  },
  {
   "cell_type": "code",
   "execution_count": null,
   "metadata": {},
   "outputs": [],
   "source": []
  }
 ],
 "metadata": {
  "kernelspec": {
   "display_name": "Python 3",
   "language": "python",
   "name": "python3"
  },
  "language_info": {
   "codemirror_mode": {
    "name": "ipython",
    "version": 3
   },
   "file_extension": ".py",
   "mimetype": "text/x-python",
   "name": "python",
   "nbconvert_exporter": "python",
   "pygments_lexer": "ipython3",
   "version": "3.7.3"
  }
 },
 "nbformat": 4,
 "nbformat_minor": 2
}
